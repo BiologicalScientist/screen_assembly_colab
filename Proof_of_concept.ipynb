{
  "nbformat": 4,
  "nbformat_minor": 0,
  "metadata": {
    "colab": {
      "name": "Proof_of_concept.ipynb",
      "provenance": [],
      "collapsed_sections": []
    },
    "kernelspec": {
      "name": "python3",
      "display_name": "Python 3"
    },
    "language_info": {
      "name": "python"
    }
  },
  "cells": [
    {
      "cell_type": "code",
      "metadata": {
        "id": "K-zhgQoL4kKn"
      },
      "source": [
        "[![Open In Colab](https://colab.research.google.com/assets/colab-badge.svg)](https://colab.research.google.com/github.com/BiologicalScientist/screen_assembly_colab/blob/main/Copy_of_Proof_of_concept.ipynb)"
      ],
      "execution_count": null,
      "outputs": []
    },
    {
      "cell_type": "code",
      "metadata": {
        "colab": {
          "base_uri": "https://localhost:8080/"
        },
        "id": "92zZFr8UPGQ2",
        "outputId": "903f91c2-57e2-401e-d3d2-49c2d5800c7c"
      },
      "source": [
        "#Install conda using the new conda-colab library\n",
        "!pip3 install screen_assembly\n",
        "!pip install -q condacolab\n",
        "import condacolab\n",
        "condacolab.install_miniconda()\n",
        "\n",
        "#Install blast and clustal with bioconda\n",
        "!conda install -c bioconda blast\n",
        "!conda install -c bioconda clustalo\n",
        "\n",
        "\n",
        "\n"
      ],
      "execution_count": 1,
      "outputs": [
        {
          "output_type": "stream",
          "name": "stdout",
          "text": [
            "Collecting screen_assembly\n",
            "  Downloading screen_assembly-1.2.8-py3-none-any.whl (17 kB)\n",
            "Requirement already satisfied: pandas in /usr/local/lib/python3.7/dist-packages (from screen_assembly) (1.1.5)\n",
            "Requirement already satisfied: matplotlib in /usr/local/lib/python3.7/dist-packages (from screen_assembly) (3.2.2)\n",
            "Collecting biopython\n",
            "  Downloading biopython-1.79-cp37-cp37m-manylinux_2_5_x86_64.manylinux1_x86_64.whl (2.3 MB)\n",
            "\u001b[K     |████████████████████████████████| 2.3 MB 8.7 MB/s \n",
            "\u001b[?25hRequirement already satisfied: numpy in /usr/local/lib/python3.7/dist-packages (from biopython->screen_assembly) (1.19.5)\n",
            "Requirement already satisfied: python-dateutil>=2.1 in /usr/local/lib/python3.7/dist-packages (from matplotlib->screen_assembly) (2.8.2)\n",
            "Requirement already satisfied: cycler>=0.10 in /usr/local/lib/python3.7/dist-packages (from matplotlib->screen_assembly) (0.10.0)\n",
            "Requirement already satisfied: pyparsing!=2.0.4,!=2.1.2,!=2.1.6,>=2.0.1 in /usr/local/lib/python3.7/dist-packages (from matplotlib->screen_assembly) (2.4.7)\n",
            "Requirement already satisfied: kiwisolver>=1.0.1 in /usr/local/lib/python3.7/dist-packages (from matplotlib->screen_assembly) (1.3.2)\n",
            "Requirement already satisfied: six in /usr/local/lib/python3.7/dist-packages (from cycler>=0.10->matplotlib->screen_assembly) (1.15.0)\n",
            "Requirement already satisfied: pytz>=2017.2 in /usr/local/lib/python3.7/dist-packages (from pandas->screen_assembly) (2018.9)\n",
            "Installing collected packages: biopython, screen-assembly\n",
            "Successfully installed biopython-1.79 screen-assembly-1.2.8\n",
            "⏬ Downloading https://repo.anaconda.com/miniconda/Miniconda3-py37_4.9.2-Linux-x86_64.sh...\n",
            "📦 Installing...\n",
            "📌 Adjusting configuration...\n",
            "🩹 Patching environment...\n",
            "⏲ Done in 0:00:32\n",
            "🔁 Restarting kernel...\n",
            "Collecting package metadata (current_repodata.json): - \b\b\\ \b\b| \b\b/ \b\b- \b\b\\ \b\b| \b\b/ \b\b- \b\b\\ \b\b| \b\b/ \b\b- \b\b\\ \b\b| \b\b/ \b\b- \b\b\\ \b\b| \b\b/ \b\b- \b\b\\ \b\b| \b\b/ \b\b- \b\b\\ \b\b| \b\b/ \b\b- \b\b\\ \b\b| \b\b/ \b\b- \b\b\\ \b\b| \b\b/ \b\b- \b\b\\ \b\b| \b\b/ \b\b- \b\bdone\n",
            "Solving environment: | \b\b/ \b\b- \b\b\\ \b\b| \b\b/ \b\b- \b\b\\ \b\bdone\n",
            "\n",
            "## Package Plan ##\n",
            "\n",
            "  environment location: /usr/local\n",
            "\n",
            "  added / updated specs:\n",
            "    - blast\n",
            "\n",
            "\n",
            "The following packages will be downloaded:\n",
            "\n",
            "    package                    |            build\n",
            "    ---------------------------|-----------------\n",
            "    blast-2.9.0                |  pl526he19e7b1_7        19.5 MB  bioconda\n",
            "    bzip2-1.0.8                |       h7b6447c_0          78 KB\n",
            "    ca-certificates-2021.9.30  |       h06a4308_1         116 KB\n",
            "    certifi-2021.10.8          |   py37h06a4308_0         151 KB\n",
            "    conda-4.10.3               |   py37h06a4308_0         2.9 MB\n",
            "    curl-7.71.1                |       hbc83047_1         140 KB\n",
            "    entrez-direct-15.6         |       he881be0_1         7.6 MB  bioconda\n",
            "    krb5-1.18.2                |       h173b8e3_0         1.3 MB\n",
            "    libcurl-7.71.1             |       h20c2e04_1         305 KB\n",
            "    libssh2-1.9.0              |       h1ba5d50_1         269 KB\n",
            "    openssl-1.1.1l             |       h7f8727e_0         2.5 MB\n",
            "    pcre-8.45                  |       h295c915_0         207 KB\n",
            "    perl-5.26.2                |       h14c3975_0        10.5 MB\n",
            "    perl-archive-tar-2.32      |          pl526_0          31 KB  bioconda\n",
            "    perl-carp-1.38             |          pl526_3          15 KB  bioconda\n",
            "    perl-common-sense-3.74     |          pl526_2          11 KB  bioconda\n",
            "    perl-compress-raw-bzip2-2.087|  pl526he1b5a44_0          44 KB  bioconda\n",
            "    perl-compress-raw-zlib-2.087|  pl526hc9558a2_0          72 KB  bioconda\n",
            "    perl-exporter-5.72         |          pl526_1          13 KB  bioconda\n",
            "    perl-exporter-tiny-1.002001|          pl526_0          23 KB  bioconda\n",
            "    perl-extutils-makemaker-7.36|          pl526_1         153 KB  bioconda\n",
            "    perl-io-compress-2.087     |  pl526he1b5a44_0          81 KB  bioconda\n",
            "    perl-io-zlib-1.10          |          pl526_2           9 KB  bioconda\n",
            "    perl-json-4.02             |          pl526_0          52 KB  bioconda\n",
            "    perl-json-xs-2.34          |  pl526h6bb024c_3          63 KB  bioconda\n",
            "    perl-list-moreutils-0.428  |          pl526_1          28 KB  bioconda\n",
            "    perl-list-moreutils-xs-0.428|          pl526_0          43 KB  bioconda\n",
            "    perl-pathtools-3.75        |  pl526h14c3975_1          41 KB  bioconda\n",
            "    perl-scalar-list-utils-1.52|  pl526h516909a_0          38 KB  bioconda\n",
            "    perl-types-serialiser-1.0  |          pl526_2          10 KB  bioconda\n",
            "    perl-xsloader-0.24         |          pl526_0           8 KB  bioconda\n",
            "    ------------------------------------------------------------\n",
            "                                           Total:        46.1 MB\n",
            "\n",
            "The following NEW packages will be INSTALLED:\n",
            "\n",
            "  blast              bioconda/linux-64::blast-2.9.0-pl526he19e7b1_7\n",
            "  bzip2              pkgs/main/linux-64::bzip2-1.0.8-h7b6447c_0\n",
            "  curl               pkgs/main/linux-64::curl-7.71.1-hbc83047_1\n",
            "  entrez-direct      bioconda/linux-64::entrez-direct-15.6-he881be0_1\n",
            "  krb5               pkgs/main/linux-64::krb5-1.18.2-h173b8e3_0\n",
            "  libcurl            pkgs/main/linux-64::libcurl-7.71.1-h20c2e04_1\n",
            "  libssh2            pkgs/main/linux-64::libssh2-1.9.0-h1ba5d50_1\n",
            "  pcre               pkgs/main/linux-64::pcre-8.45-h295c915_0\n",
            "  perl               pkgs/main/linux-64::perl-5.26.2-h14c3975_0\n",
            "  perl-archive-tar   bioconda/linux-64::perl-archive-tar-2.32-pl526_0\n",
            "  perl-carp          bioconda/linux-64::perl-carp-1.38-pl526_3\n",
            "  perl-common-sense  bioconda/linux-64::perl-common-sense-3.74-pl526_2\n",
            "  perl-compress-raw~ bioconda/linux-64::perl-compress-raw-bzip2-2.087-pl526he1b5a44_0\n",
            "  perl-compress-raw~ bioconda/linux-64::perl-compress-raw-zlib-2.087-pl526hc9558a2_0\n",
            "  perl-exporter      bioconda/linux-64::perl-exporter-5.72-pl526_1\n",
            "  perl-exporter-tiny bioconda/linux-64::perl-exporter-tiny-1.002001-pl526_0\n",
            "  perl-extutils-mak~ bioconda/linux-64::perl-extutils-makemaker-7.36-pl526_1\n",
            "  perl-io-compress   bioconda/linux-64::perl-io-compress-2.087-pl526he1b5a44_0\n",
            "  perl-io-zlib       bioconda/linux-64::perl-io-zlib-1.10-pl526_2\n",
            "  perl-json          bioconda/linux-64::perl-json-4.02-pl526_0\n",
            "  perl-json-xs       bioconda/linux-64::perl-json-xs-2.34-pl526h6bb024c_3\n",
            "  perl-list-moreuti~ bioconda/linux-64::perl-list-moreutils-0.428-pl526_1\n",
            "  perl-list-moreuti~ bioconda/linux-64::perl-list-moreutils-xs-0.428-pl526_0\n",
            "  perl-pathtools     bioconda/linux-64::perl-pathtools-3.75-pl526h14c3975_1\n",
            "  perl-scalar-list-~ bioconda/linux-64::perl-scalar-list-utils-1.52-pl526h516909a_0\n",
            "  perl-types-serial~ bioconda/linux-64::perl-types-serialiser-1.0-pl526_2\n",
            "  perl-xsloader      bioconda/linux-64::perl-xsloader-0.24-pl526_0\n",
            "\n",
            "The following packages will be UPDATED:\n",
            "\n",
            "  ca-certificates                              2020.10.14-0 --> 2021.9.30-h06a4308_1\n",
            "  certifi            pkgs/main/noarch::certifi-2020.6.20-p~ --> pkgs/main/linux-64::certifi-2021.10.8-py37h06a4308_0\n",
            "  conda                                4.9.2-py37h06a4308_0 --> 4.10.3-py37h06a4308_0\n",
            "  openssl                                 1.1.1h-h7b6447c_0 --> 1.1.1l-h7f8727e_0\n",
            "\n",
            "\n",
            "\n",
            "Downloading and Extracting Packages\n",
            "entrez-direct-15.6   | 7.6 MB    | : 100% 1.0/1 [00:01<00:00,  1.28s/it]\n",
            "perl-exporter-5.72   | 13 KB     | : 100% 1.0/1 [00:00<00:00, 17.62it/s]\n",
            "perl-exporter-tiny-1 | 23 KB     | : 100% 1.0/1 [00:00<00:00, 16.56it/s]\n",
            "perl-xsloader-0.24   | 8 KB      | : 100% 1.0/1 [00:00<00:00, 24.81it/s]\n",
            "perl-pathtools-3.75  | 41 KB     | : 100% 1.0/1 [00:00<00:00, 20.96it/s]\n",
            "blast-2.9.0          | 19.5 MB   | : 100% 1.0/1 [00:03<00:00,  3.80s/it]               \n",
            "perl-common-sense-3. | 11 KB     | : 100% 1.0/1 [00:00<00:00, 23.66it/s]\n",
            "perl-extutils-makema | 153 KB    | : 100% 1.0/1 [00:00<00:00, 12.75it/s]\n",
            "conda-4.10.3         | 2.9 MB    | : 100% 1.0/1 [00:00<00:00,  2.73it/s]\n",
            "perl-archive-tar-2.3 | 31 KB     | : 100% 1.0/1 [00:00<00:00, 19.80it/s]\n",
            "certifi-2021.10.8    | 151 KB    | : 100% 1.0/1 [00:00<00:00, 15.63it/s]\n",
            "curl-7.71.1          | 140 KB    | : 100% 1.0/1 [00:00<00:00, 15.62it/s]\n",
            "perl-list-moreutils- | 43 KB     | : 100% 1.0/1 [00:00<00:00, 13.87it/s]\n",
            "perl-io-zlib-1.10    | 9 KB      | : 100% 1.0/1 [00:00<00:00, 27.92it/s]\n",
            "perl-list-moreutils- | 28 KB     | : 100% 1.0/1 [00:00<00:00, 23.56it/s]\n",
            "perl-carp-1.38       | 15 KB     | : 100% 1.0/1 [00:00<00:00, 23.54it/s]\n",
            "pcre-8.45            | 207 KB    | : 100% 1.0/1 [00:00<00:00, 14.43it/s]\n",
            "bzip2-1.0.8          | 78 KB     | : 100% 1.0/1 [00:00<00:00, 14.75it/s]\n",
            "perl-compress-raw-bz | 44 KB     | : 100% 1.0/1 [00:00<00:00, 17.95it/s]\n",
            "perl-io-compress-2.0 | 81 KB     | : 100% 1.0/1 [00:00<00:00, 10.96it/s]\n",
            "perl-compress-raw-zl | 72 KB     | : 100% 1.0/1 [00:00<00:00, 19.80it/s]\n",
            "libcurl-7.71.1       | 305 KB    | : 100% 1.0/1 [00:00<00:00, 14.26it/s]\n",
            "perl-5.26.2          | 10.5 MB   | : 100% 1.0/1 [00:00<00:00,  1.16it/s]\n",
            "perl-json-4.02       | 52 KB     | : 100% 1.0/1 [00:00<00:00, 17.88it/s]\n",
            "krb5-1.18.2          | 1.3 MB    | : 100% 1.0/1 [00:00<00:00,  9.14it/s]\n",
            "perl-types-serialise | 10 KB     | : 100% 1.0/1 [00:00<00:00, 24.51it/s]\n",
            "ca-certificates-2021 | 116 KB    | : 100% 1.0/1 [00:00<00:00, 13.03it/s]\n",
            "perl-scalar-list-uti | 38 KB     | : 100% 1.0/1 [00:00<00:00, 21.15it/s]\n",
            "perl-json-xs-2.34    | 63 KB     | : 100% 1.0/1 [00:00<00:00, 19.09it/s]\n",
            "openssl-1.1.1l       | 2.5 MB    | : 100% 1.0/1 [00:00<00:00,  6.79it/s]\n",
            "libssh2-1.9.0        | 269 KB    | : 100% 1.0/1 [00:00<00:00, 11.14it/s]\n",
            "Preparing transaction: / \b\b- \b\bdone\n",
            "Verifying transaction: | \b\b/ \b\b- \b\b\\ \b\b| \b\b/ \b\bdone\n",
            "Executing transaction: \\ \b\b| \b\b/ \b\b- \b\bdone\n",
            "Collecting package metadata (current_repodata.json): - \b\b\\ \b\b| \b\b/ \b\b- \b\b\\ \b\b| \b\b/ \b\b- \b\b\\ \b\b| \b\bdone\n",
            "Solving environment: - \b\b\\ \b\b| \b\b/ \b\b- \b\b\\ \b\b| \b\b/ \b\b- \b\b\\ \b\b| \b\b/ \b\b- \b\b\\ \b\b| \b\b/ \b\b- \b\b\\ \b\b| \b\b/ \b\b- \b\b\\ \b\bfailed with initial frozen solve. Retrying with flexible solve.\n",
            "Solving environment: / \b\b- \b\b\\ \b\b| \b\b/ \b\b- \b\b\\ \b\b| \b\b/ \b\b- \b\b\\ \b\b| \b\b/ \b\b- \b\b\\ \b\b| \b\b/ \b\b- \b\b\\ \b\b| \b\b/ \b\bfailed with repodata from current_repodata.json, will retry with next repodata source.\n",
            "Collecting package metadata (repodata.json): \\ \b\b| \b\b/ \b\b- \b\b\\ \b\b| \b\b/ \b\b- \b\b\\ \b\b| \b\b/ \b\b- \b\b\\ \b\b| \b\b/ \b\b- \b\b\\ \b\b| \b\b/ \b\b- \b\b\\ \b\b| \b\b/ \b\b- \b\b\\ \b\b| \b\b/ \b\b- \b\b\\ \b\b| \b\b/ \b\b- \b\b\\ \b\b| \b\b/ \b\b- \b\b\\ \b\b| \b\b/ \b\b- \b\b\\ \b\b| \b\b/ \b\b- \b\b\\ \b\b| \b\b/ \b\b- \b\b\\ \b\b| \b\b/ \b\b- \b\b\\ \b\b| \b\b/ \b\b- \b\b\\ \b\b| \b\b/ \b\b- \b\b\\ \b\b| \b\b/ \b\b- \b\b\\ \b\b| \b\b/ \b\b- \b\b\\ \b\b| \b\b/ \b\b- \b\b\\ \b\b| \b\b/ \b\b- \b\b\\ \b\b| \b\b/ \b\b- \b\b\\ \b\b| \b\b/ \b\b- \b\b\\ \b\b| \b\b/ \b\b- \b\b\\ \b\b| \b\b/ \b\b- \b\b\\ \b\b| \b\b/ \b\bdone\n",
            "Solving environment: \\ \b\b| \b\b/ \b\b- \b\b\\ \b\b| \b\b/ \b\b- \b\b\\ \b\b| \b\b/ \b\b- \b\b\\ \b\b| \b\b/ \b\b- \b\bdone\n",
            "\n",
            "## Package Plan ##\n",
            "\n",
            "  environment location: /usr/local\n",
            "\n",
            "  added / updated specs:\n",
            "    - clustalo\n",
            "\n",
            "\n",
            "The following packages will be downloaded:\n",
            "\n",
            "    package                    |            build\n",
            "    ---------------------------|-----------------\n",
            "    clustalo-1.2.3             |                0         1.7 MB  bioconda\n",
            "    ------------------------------------------------------------\n",
            "                                           Total:         1.7 MB\n",
            "\n",
            "The following NEW packages will be INSTALLED:\n",
            "\n",
            "  clustalo           bioconda/linux-64::clustalo-1.2.3-0\n",
            "\n",
            "\n",
            "\n",
            "Downloading and Extracting Packages\n",
            "clustalo-1.2.3       | 1.7 MB    | : 100% 1.0/1 [00:00<00:00,  1.28it/s]\n",
            "Preparing transaction: | \b\bdone\n",
            "Verifying transaction: - \b\bdone\n",
            "Executing transaction: | \b\bdone\n"
          ]
        }
      ]
    },
    {
      "cell_type": "code",
      "metadata": {
        "colab": {
          "base_uri": "https://localhost:8080/"
        },
        "id": "TYc2jloKy97J",
        "outputId": "e86c7419-3979-4cf1-f3bd-a25561ab0295"
      },
      "source": [
        "!blastn -h"
      ],
      "execution_count": 1,
      "outputs": [
        {
          "output_type": "stream",
          "name": "stdout",
          "text": [
            "USAGE\n",
            "  blastn [-h] [-help] [-import_search_strategy filename]\n",
            "    [-export_search_strategy filename] [-task task_name] [-db database_name]\n",
            "    [-dbsize num_letters] [-gilist filename] [-seqidlist filename]\n",
            "    [-negative_gilist filename] [-negative_seqidlist filename]\n",
            "    [-taxids taxids] [-negative_taxids taxids] [-taxidlist filename]\n",
            "    [-negative_taxidlist filename] [-entrez_query entrez_query]\n",
            "    [-db_soft_mask filtering_algorithm] [-db_hard_mask filtering_algorithm]\n",
            "    [-subject subject_input_file] [-subject_loc range] [-query input_file]\n",
            "    [-out output_file] [-evalue evalue] [-word_size int_value]\n",
            "    [-gapopen open_penalty] [-gapextend extend_penalty]\n",
            "    [-perc_identity float_value] [-qcov_hsp_perc float_value]\n",
            "    [-max_hsps int_value] [-xdrop_ungap float_value] [-xdrop_gap float_value]\n",
            "    [-xdrop_gap_final float_value] [-searchsp int_value] [-penalty penalty]\n",
            "    [-reward reward] [-no_greedy] [-min_raw_gapped_score int_value]\n",
            "    [-template_type type] [-template_length int_value] [-dust DUST_options]\n",
            "    [-filtering_db filtering_database]\n",
            "    [-window_masker_taxid window_masker_taxid]\n",
            "    [-window_masker_db window_masker_db] [-soft_masking soft_masking]\n",
            "    [-ungapped] [-culling_limit int_value] [-best_hit_overhang float_value]\n",
            "    [-best_hit_score_edge float_value] [-subject_besthit]\n",
            "    [-window_size int_value] [-off_diagonal_range int_value]\n",
            "    [-use_index boolean] [-index_name string] [-lcase_masking]\n",
            "    [-query_loc range] [-strand strand] [-parse_deflines] [-outfmt format]\n",
            "    [-show_gis] [-num_descriptions int_value] [-num_alignments int_value]\n",
            "    [-line_length line_length] [-html] [-sorthits sort_hits]\n",
            "    [-sorthsps sort_hsps] [-max_target_seqs num_sequences]\n",
            "    [-num_threads int_value] [-remote] [-version]\n",
            "\n",
            "DESCRIPTION\n",
            "   Nucleotide-Nucleotide BLAST 2.9.0+\n",
            "\n",
            "Use '-help' to print detailed descriptions of command line arguments\n"
          ]
        }
      ]
    },
    {
      "cell_type": "code",
      "metadata": {
        "colab": {
          "base_uri": "https://localhost:8080/"
        },
        "id": "i-oQRX96PxvL",
        "outputId": "104052c6-c9d3-48ae-a297-3cbc933505dc"
      },
      "source": [
        "!screen_assembly3.py -h "
      ],
      "execution_count": 2,
      "outputs": [
        {
          "output_type": "stream",
          "name": "stdout",
          "text": [
            "usage: screen_assembly3.py [-h] [-q QUERY] [-i INPUT_FOLDER] [-t THREADS] [-a]\n",
            "                           [-x] [-p PERCENT_IDENTITY] [-l PERCENT_LENGTH] [-o]\n",
            "                           [-k] [-y] [-r] [-c LABEL_ROTATION] [-s] [-g]\n",
            "                           [-n NUMBER_SAMPLES_ON_BOX_PLOT]\n",
            "\n",
            "Screens assemblies for given gene/genes/proteins/operons.\n",
            "\n",
            "optional arguments:\n",
            "  -h, --help            show this help message and exit\n",
            "\n",
            "Required:\n",
            "  Need query fastas and a database to look in\n",
            "\n",
            "  -q QUERY, --query QUERY\n",
            "                        Query sequences fasta. Must only have one . in name.\n",
            "                        ie sample_1.fa, NOT sample.1.fa\n",
            "  -i INPUT_FOLDER, --input_folder INPUT_FOLDER\n",
            "                        Folder with ONLY db seqs in it. Can be one file or\n",
            "                        many. Must be the same sequence type.\n",
            "\n",
            "Options:\n",
            "  Alignment required for SNP plots, this will increase run time\n",
            "\n",
            "  -t THREADS, --threads THREADS\n",
            "                        How many threads to give blast, muscle, raxml etc.\n",
            "  -a, --aln             Make alignments with muscle. On by default.\n",
            "  -x, --plots           Make gap and aa variation plots. Some versions of MAC\n",
            "                        OS are incompatable with these plots and cause\n",
            "                        crashes. Off by default.\n",
            "  -p PERCENT_IDENTITY, --percent_identity PERCENT_IDENTITY\n",
            "                        Percent_identity. Default 80.\n",
            "  -l PERCENT_LENGTH, --percent_length PERCENT_LENGTH\n",
            "                        Percent_length. Default 80.\n",
            "  -o, --operon          Seq is operon or kmer, something where stops are\n",
            "                        expected\n",
            "  -k, --keep_flagged    Include hits flagged with Ns, premature stops or\n",
            "                        contig breaks. Default off.\n",
            "  -y, --ignore_warnings\n",
            "                        Ignore warnings\n",
            "\n",
            "Phylogeny:\n",
            "  Uses nuc SNP aln. 1k ultrafast bootstraps.\n",
            "\n",
            "  -r, --IQtree          Run IQtree, requires nuc alignments. Off by default.\n",
            "\n",
            "box_wisker parameters:\n",
            "  Box and wisker plot\n",
            "\n",
            "  -c LABEL_ROTATION, --label_rotation LABEL_ROTATION\n",
            "                        Labels on box plot. Default 90.\n",
            "  -s, --style           Box plot style. Default classic\n",
            "  -g, --print_count     Overlay total count on percent carriage bars. Default\n",
            "                        True\n",
            "  -n NUMBER_SAMPLES_ON_BOX_PLOT, --number_samples_on_box_plot NUMBER_SAMPLES_ON_BOX_PLOT\n",
            "                        number_samples_on_box_plot. Default 10\n"
          ]
        }
      ]
    },
    {
      "cell_type": "code",
      "metadata": {
        "colab": {
          "base_uri": "https://localhost:8080/"
        },
        "id": "U0UMluDdt534",
        "outputId": "412d1b76-4cb4-4c3c-e52d-6d03682ad6ec"
      },
      "source": [
        "!pwd\n",
        "!ls\n",
        "!rm -r screen_assembly_colab\n",
        "!git clone https://github.com/BiologicalScientist/screen_assembly_colab\n",
        "!ls\n",
        "!ls -lh"
      ],
      "execution_count": 3,
      "outputs": [
        {
          "output_type": "stream",
          "name": "stdout",
          "text": [
            "/content\n",
            "condacolab_install.log\tsample_data\n",
            "rm: cannot remove 'screen_assembly_colab': No such file or directory\n",
            "Cloning into 'screen_assembly_colab'...\n",
            "remote: Enumerating objects: 22, done.\u001b[K\n",
            "remote: Counting objects: 100% (22/22), done.\u001b[K\n",
            "remote: Compressing objects: 100% (19/19), done.\u001b[K\n",
            "remote: Total 22 (delta 3), reused 0 (delta 0), pack-reused 0\u001b[K\n",
            "Unpacking objects: 100% (22/22), done.\n",
            "condacolab_install.log\tsample_data  screen_assembly_colab\n",
            "total 20K\n",
            "-rw-r--r-- 1 root root 8.9K Oct 22 02:30 condacolab_install.log\n",
            "drwxr-xr-x 1 root root 4.0K Oct  8 13:45 sample_data\n",
            "drwxr-xr-x 4 root root 4.0K Oct 22 02:32 screen_assembly_colab\n"
          ]
        }
      ]
    },
    {
      "cell_type": "code",
      "metadata": {
        "colab": {
          "base_uri": "https://localhost:8080/"
        },
        "id": "CzBqjWAUvHnv",
        "outputId": "c8222ab7-30e3-49c8-9c4a-3885e8fa4c7a"
      },
      "source": [
        "!mkdir screen_results\n",
        "%cd screen_results"
      ],
      "execution_count": 4,
      "outputs": [
        {
          "output_type": "stream",
          "name": "stdout",
          "text": [
            "/content/screen_results\n"
          ]
        }
      ]
    },
    {
      "cell_type": "code",
      "metadata": {
        "colab": {
          "base_uri": "https://localhost:8080/"
        },
        "id": "ku_3jOuAyPcv",
        "outputId": "124bf577-e5d7-4534-d47a-12d78f8afe2b"
      },
      "source": [
        "!screen_assembly3.py -q ../screen_assembly_colab/virulence_and_AMR.fa -i ../screen_assembly_colab/reference_genomes -a -x -p 80 -l 80"
      ],
      "execution_count": 5,
      "outputs": [
        {
          "output_type": "stream",
          "name": "stdout",
          "text": [
            "cating assemblies...\n",
            "Getting assembly names...\n",
            "3 assemblies used\n",
            "Starting Blast...\n",
            "testing query seqs\n",
            "fine ->  DNA\n",
            "testing db seqs\n",
            "fine ->  DNA\n",
            "makeblastdb makeblastdb -in ../screen_assembly_colab/reference_genomes/concatenated_assemblies/concatenated_assemblies.fasta -parse_seqids -dbtype nucl\n",
            "\n",
            "\n",
            "Building a new DB, current time: 10/22/2021 02:32:21\n",
            "New DB name:   /content/screen_assembly_colab/reference_genomes/concatenated_assemblies/concatenated_assemblies.fasta\n",
            "New DB title:  ../screen_assembly_colab/reference_genomes/concatenated_assemblies/concatenated_assemblies.fasta\n",
            "Sequence type: Nucleotide\n",
            "Keep MBits: T\n",
            "Maximum file size: 1000000000B\n",
            "Adding sequences from FASTA; added 3 sequences in 0.059979 seconds.\n",
            "makeblastdb done\n",
            "blastn -query ../screen_assembly_colab/virulence_and_AMR.fa -db ../screen_assembly_colab/reference_genomes/concatenated_assemblies/concatenated_assemblies.fasta -out blast_out.txt -outfmt 6 qseqid sseqid pident length mismatch gapopen qstart qend sstart send evalue bitscore qlen slen qcovhsp -max_target_seqs 500000 -qcov_hsp_perc 80 -num_threads 4 -perc_identity 80\n",
            "Warning: [blastn] Number of threads was reduced to 2 to match the number of available CPUs\n",
            "Running blastn...\n",
            "Snipping sequences from db...\n",
            "Looking for hits at contig breaks...\n",
            "Processing seqs (running QC (if enabled)) and translating (if required)...\n",
            "Making an itol template...\n",
            "Making a CSV summary of results...\n",
            "Making csv ...\n",
            "percent_dict defaultdict(<class 'list'>, {'speA2_M5005_Spy0996': [100.0, 100.0], 'ssa_SpyM3_0920': [99.872], 'mf2_SPy_0712': [100.0, 100.0], 'speC_SPy_0711': [100.0, 100.0], 'sdaD2_Spy1415': [100.0, 100.0], 'spd3_M5005_Spy_1169': [100.0, 100.0, 100.0], 'tetM_X92947_tetracycline': [94.271], 'ermB_JN899585_macrolide': [99.729]})\n",
            "/usr/local/lib/python3.7/dist-packages/numpy/core/_asarray.py:83: VisibleDeprecationWarning: Creating an ndarray from ragged nested sequences (which is a list-or-tuple of lists-or-tuples-or ndarrays with different lengths or shapes) is deprecated. If you meant to do this, you must specify 'dtype=object' when creating the ndarray\n",
            "  return array(a, dtype, copy=False, order=order)\n",
            "Done!\n"
          ]
        }
      ]
    },
    {
      "cell_type": "code",
      "metadata": {
        "colab": {
          "base_uri": "https://localhost:8080/"
        },
        "id": "5yQ_sPeBvuM8",
        "outputId": "3903a5c3-cd47-414b-ca43-63a0f4d09be4"
      },
      "source": [
        "!ls"
      ],
      "execution_count": 6,
      "outputs": [
        {
          "output_type": "stream",
          "name": "stdout",
          "text": [
            "assembly_names.txt\t\t  sdaD2_Spy1415\n",
            "binary_hits_boiled_down.csv\t  spd3_M5005_Spy_1169\n",
            "binary_hits.csv\t\t\t  speA2_M5005_Spy0996\n",
            "blast_out.txt\t\t\t  speC_SPy_0711\n",
            "box_and_carriage_plot1.svg\t  ssa_SpyM3_0920\n",
            "ermB_JN899585_macrolide\t\t  tetM_X92947_tetracycline\n",
            "length_and_sequence_identity.csv  total_hits.csv\n",
            "mf2_SPy_0712\t\t\t  versions.txt\n",
            "names_map.csv\t\t\t  virulence_and_AMR_itol.txt\n"
          ]
        }
      ]
    },
    {
      "cell_type": "code",
      "metadata": {
        "colab": {
          "base_uri": "https://localhost:8080/",
          "height": 597
        },
        "id": "nEmY3K2Xv9vr",
        "outputId": "0448de2a-4768-4f0a-8c76-793709b6d27f"
      },
      "source": [
        "from IPython.display import SVG, display\n",
        "display(SVG('box_and_carriage_plot1.svg'))\n"
      ],
      "execution_count": 10,
      "outputs": [
        {
          "output_type": "display_data",
          "data": {
            "text/plain": [
              "<IPython.core.display.SVG object>"
            ],
            "image/svg+xml": "<svg height=\"432pt\" version=\"1.1\" viewBox=\"0 0 576 432\" width=\"576pt\" xmlns=\"http://www.w3.org/2000/svg\" xmlns:xlink=\"http://www.w3.org/1999/xlink\">\n <defs>\n  <style type=\"text/css\">\n*{stroke-linecap:butt;stroke-linejoin:round;}\n  </style>\n </defs>\n <g id=\"figure_1\">\n  <g id=\"patch_1\">\n   <path d=\"M 0 432  L 576 432  L 576 0  L 0 0  z \" style=\"fill:#ffffff;\"/>\n  </g>\n  <g id=\"axes_1\">\n   <g id=\"patch_2\">\n    <path clip-path=\"url(#p36f47f11d6)\" d=\"M 62.39475 252.14  L 108.67275 252.14  L 108.67275 103.22  L 62.39475 103.22  z \" style=\"fill:#eeefff;stroke:#000000;stroke-linejoin:miter;\"/>\n   </g>\n   <g id=\"patch_3\">\n    <path clip-path=\"url(#p36f47f11d6)\" d=\"M 120.24225 252.14  L 166.52025 252.14  L 166.52025 177.68  L 120.24225 177.68  z \" style=\"fill:#eeefff;stroke:#000000;stroke-linejoin:miter;\"/>\n   </g>\n   <g id=\"patch_4\">\n    <path clip-path=\"url(#p36f47f11d6)\" d=\"M 178.08975 252.14  L 224.36775 252.14  L 224.36775 103.22  L 178.08975 103.22  z \" style=\"fill:#eeefff;stroke:#000000;stroke-linejoin:miter;\"/>\n   </g>\n   <g id=\"patch_5\">\n    <path clip-path=\"url(#p36f47f11d6)\" d=\"M 235.93725 252.14  L 282.21525 252.14  L 282.21525 103.22  L 235.93725 103.22  z \" style=\"fill:#eeefff;stroke:#000000;stroke-linejoin:miter;\"/>\n   </g>\n   <g id=\"patch_6\">\n    <path clip-path=\"url(#p36f47f11d6)\" d=\"M 293.78475 252.14  L 340.06275 252.14  L 340.06275 103.22  L 293.78475 103.22  z \" style=\"fill:#eeefff;stroke:#000000;stroke-linejoin:miter;\"/>\n   </g>\n   <g id=\"patch_7\">\n    <path clip-path=\"url(#p36f47f11d6)\" d=\"M 351.63225 252.14  L 397.91025 252.14  L 397.91025 28.76  L 351.63225 28.76  z \" style=\"fill:#eeefff;stroke:#000000;stroke-linejoin:miter;\"/>\n   </g>\n   <g id=\"patch_8\">\n    <path clip-path=\"url(#p36f47f11d6)\" d=\"M 409.47975 252.14  L 455.75775 252.14  L 455.75775 177.68  L 409.47975 177.68  z \" style=\"fill:#eeefff;stroke:#000000;stroke-linejoin:miter;\"/>\n   </g>\n   <g id=\"patch_9\">\n    <path clip-path=\"url(#p36f47f11d6)\" d=\"M 467.32725 252.14  L 513.60525 252.14  L 513.60525 177.68  L 467.32725 177.68  z \" style=\"fill:#eeefff;stroke:#000000;stroke-linejoin:miter;\"/>\n   </g>\n   <g id=\"patch_10\">\n    <path d=\"M 56.61 252.14  L 56.61 28.76  \" style=\"fill:none;stroke:#000000;stroke-linecap:square;stroke-linejoin:miter;\"/>\n   </g>\n   <g id=\"patch_11\">\n    <path d=\"M 519.39 252.14  L 519.39 28.76  \" style=\"fill:none;stroke:#000000;stroke-linecap:square;stroke-linejoin:miter;\"/>\n   </g>\n   <g id=\"patch_12\">\n    <path d=\"M 56.61 252.14  L 519.39 252.14  \" style=\"fill:none;stroke:#000000;stroke-linecap:square;stroke-linejoin:miter;\"/>\n   </g>\n   <g id=\"patch_13\">\n    <path d=\"M 56.61 28.76  L 519.39 28.76  \" style=\"fill:none;stroke:#000000;stroke-linecap:square;stroke-linejoin:miter;\"/>\n   </g>\n   <g id=\"matplotlib.axis_1\">\n    <g id=\"ytick_1\">\n     <g id=\"line2d_1\">\n      <defs>\n       <path d=\"M 0 0  L -4 0  \" id=\"mb3b6b504fb\" style=\"stroke:#000000;stroke-width:0.5;\"/>\n      </defs>\n      <g>\n       <use style=\"stroke:#000000;stroke-width:0.5;\" x=\"519.39\" xlink:href=\"#mb3b6b504fb\" y=\"252.14\"/>\n      </g>\n     </g>\n     <g id=\"text_1\">\n      <!-- 0 -->\n      <defs>\n       <path d=\"M 31.78125 66.40625  Q 24.171875 66.40625 20.328125 58.90625  Q 16.5 51.421875 16.5 36.375  Q 16.5 21.390625 20.328125 13.890625  Q 24.171875 6.390625 31.78125 6.390625  Q 39.453125 6.390625 43.28125 13.890625  Q 47.125 21.390625 47.125 36.375  Q 47.125 51.421875 43.28125 58.90625  Q 39.453125 66.40625 31.78125 66.40625  z M 31.78125 74.21875  Q 44.046875 74.21875 50.515625 64.515625  Q 56.984375 54.828125 56.984375 36.375  Q 56.984375 17.96875 50.515625 8.265625  Q 44.046875 -1.421875 31.78125 -1.421875  Q 19.53125 -1.421875 13.0625 8.265625  Q 6.59375 17.96875 6.59375 36.375  Q 6.59375 54.828125 13.0625 64.515625  Q 19.53125 74.21875 31.78125 74.21875  z \" id=\"DejaVuSans-48\"/>\n      </defs>\n      <g transform=\"translate(523.39 255.45125)scale(0.12 -0.12)\">\n       <use xlink:href=\"#DejaVuSans-48\"/>\n      </g>\n     </g>\n    </g>\n    <g id=\"ytick_2\">\n     <g id=\"line2d_2\">\n      <g>\n       <use style=\"stroke:#000000;stroke-width:0.5;\" x=\"519.39\" xlink:href=\"#mb3b6b504fb\" y=\"207.464\"/>\n      </g>\n     </g>\n     <g id=\"text_2\">\n      <!-- 20 -->\n      <defs>\n       <path d=\"M 19.1875 8.296875  L 53.609375 8.296875  L 53.609375 0  L 7.328125 0  L 7.328125 8.296875  Q 12.9375 14.109375 22.625 23.890625  Q 32.328125 33.6875 34.8125 36.53125  Q 39.546875 41.84375 41.421875 45.53125  Q 43.3125 49.21875 43.3125 52.78125  Q 43.3125 58.59375 39.234375 62.25  Q 35.15625 65.921875 28.609375 65.921875  Q 23.96875 65.921875 18.8125 64.3125  Q 13.671875 62.703125 7.8125 59.421875  L 7.8125 69.390625  Q 13.765625 71.78125 18.9375 73  Q 24.125 74.21875 28.421875 74.21875  Q 39.75 74.21875 46.484375 68.546875  Q 53.21875 62.890625 53.21875 53.421875  Q 53.21875 48.921875 51.53125 44.890625  Q 49.859375 40.875 45.40625 35.40625  Q 44.1875 33.984375 37.640625 27.21875  Q 31.109375 20.453125 19.1875 8.296875  z \" id=\"DejaVuSans-50\"/>\n      </defs>\n      <g transform=\"translate(523.39 210.77525)scale(0.12 -0.12)\">\n       <use xlink:href=\"#DejaVuSans-50\"/>\n       <use x=\"63.623047\" xlink:href=\"#DejaVuSans-48\"/>\n      </g>\n     </g>\n    </g>\n    <g id=\"ytick_3\">\n     <g id=\"line2d_3\">\n      <g>\n       <use style=\"stroke:#000000;stroke-width:0.5;\" x=\"519.39\" xlink:href=\"#mb3b6b504fb\" y=\"162.788\"/>\n      </g>\n     </g>\n     <g id=\"text_3\">\n      <!-- 40 -->\n      <defs>\n       <path d=\"M 37.796875 64.3125  L 12.890625 25.390625  L 37.796875 25.390625  z M 35.203125 72.90625  L 47.609375 72.90625  L 47.609375 25.390625  L 58.015625 25.390625  L 58.015625 17.1875  L 47.609375 17.1875  L 47.609375 0  L 37.796875 0  L 37.796875 17.1875  L 4.890625 17.1875  L 4.890625 26.703125  z \" id=\"DejaVuSans-52\"/>\n      </defs>\n      <g transform=\"translate(523.39 166.09925)scale(0.12 -0.12)\">\n       <use xlink:href=\"#DejaVuSans-52\"/>\n       <use x=\"63.623047\" xlink:href=\"#DejaVuSans-48\"/>\n      </g>\n     </g>\n    </g>\n    <g id=\"ytick_4\">\n     <g id=\"line2d_4\">\n      <g>\n       <use style=\"stroke:#000000;stroke-width:0.5;\" x=\"519.39\" xlink:href=\"#mb3b6b504fb\" y=\"118.112\"/>\n      </g>\n     </g>\n     <g id=\"text_4\">\n      <!-- 60 -->\n      <defs>\n       <path d=\"M 33.015625 40.375  Q 26.375 40.375 22.484375 35.828125  Q 18.609375 31.296875 18.609375 23.390625  Q 18.609375 15.53125 22.484375 10.953125  Q 26.375 6.390625 33.015625 6.390625  Q 39.65625 6.390625 43.53125 10.953125  Q 47.40625 15.53125 47.40625 23.390625  Q 47.40625 31.296875 43.53125 35.828125  Q 39.65625 40.375 33.015625 40.375  z M 52.59375 71.296875  L 52.59375 62.3125  Q 48.875 64.0625 45.09375 64.984375  Q 41.3125 65.921875 37.59375 65.921875  Q 27.828125 65.921875 22.671875 59.328125  Q 17.53125 52.734375 16.796875 39.40625  Q 19.671875 43.65625 24.015625 45.921875  Q 28.375 48.1875 33.59375 48.1875  Q 44.578125 48.1875 50.953125 41.515625  Q 57.328125 34.859375 57.328125 23.390625  Q 57.328125 12.15625 50.6875 5.359375  Q 44.046875 -1.421875 33.015625 -1.421875  Q 20.359375 -1.421875 13.671875 8.265625  Q 6.984375 17.96875 6.984375 36.375  Q 6.984375 53.65625 15.1875 63.9375  Q 23.390625 74.21875 37.203125 74.21875  Q 40.921875 74.21875 44.703125 73.484375  Q 48.484375 72.75 52.59375 71.296875  z \" id=\"DejaVuSans-54\"/>\n      </defs>\n      <g transform=\"translate(523.39 121.42325)scale(0.12 -0.12)\">\n       <use xlink:href=\"#DejaVuSans-54\"/>\n       <use x=\"63.623047\" xlink:href=\"#DejaVuSans-48\"/>\n      </g>\n     </g>\n    </g>\n    <g id=\"ytick_5\">\n     <g id=\"line2d_5\">\n      <g>\n       <use style=\"stroke:#000000;stroke-width:0.5;\" x=\"519.39\" xlink:href=\"#mb3b6b504fb\" y=\"73.436\"/>\n      </g>\n     </g>\n     <g id=\"text_5\">\n      <!-- 80 -->\n      <defs>\n       <path d=\"M 31.78125 34.625  Q 24.75 34.625 20.71875 30.859375  Q 16.703125 27.09375 16.703125 20.515625  Q 16.703125 13.921875 20.71875 10.15625  Q 24.75 6.390625 31.78125 6.390625  Q 38.8125 6.390625 42.859375 10.171875  Q 46.921875 13.96875 46.921875 20.515625  Q 46.921875 27.09375 42.890625 30.859375  Q 38.875 34.625 31.78125 34.625  z M 21.921875 38.8125  Q 15.578125 40.375 12.03125 44.71875  Q 8.5 49.078125 8.5 55.328125  Q 8.5 64.0625 14.71875 69.140625  Q 20.953125 74.21875 31.78125 74.21875  Q 42.671875 74.21875 48.875 69.140625  Q 55.078125 64.0625 55.078125 55.328125  Q 55.078125 49.078125 51.53125 44.71875  Q 48 40.375 41.703125 38.8125  Q 48.828125 37.15625 52.796875 32.3125  Q 56.78125 27.484375 56.78125 20.515625  Q 56.78125 9.90625 50.3125 4.234375  Q 43.84375 -1.421875 31.78125 -1.421875  Q 19.734375 -1.421875 13.25 4.234375  Q 6.78125 9.90625 6.78125 20.515625  Q 6.78125 27.484375 10.78125 32.3125  Q 14.796875 37.15625 21.921875 38.8125  z M 18.3125 54.390625  Q 18.3125 48.734375 21.84375 45.5625  Q 25.390625 42.390625 31.78125 42.390625  Q 38.140625 42.390625 41.71875 45.5625  Q 45.3125 48.734375 45.3125 54.390625  Q 45.3125 60.0625 41.71875 63.234375  Q 38.140625 66.40625 31.78125 66.40625  Q 25.390625 66.40625 21.84375 63.234375  Q 18.3125 60.0625 18.3125 54.390625  z \" id=\"DejaVuSans-56\"/>\n      </defs>\n      <g transform=\"translate(523.39 76.74725)scale(0.12 -0.12)\">\n       <use xlink:href=\"#DejaVuSans-56\"/>\n       <use x=\"63.623047\" xlink:href=\"#DejaVuSans-48\"/>\n      </g>\n     </g>\n    </g>\n    <g id=\"ytick_6\">\n     <g id=\"line2d_6\">\n      <g>\n       <use style=\"stroke:#000000;stroke-width:0.5;\" x=\"519.39\" xlink:href=\"#mb3b6b504fb\" y=\"28.76\"/>\n      </g>\n     </g>\n     <g id=\"text_6\">\n      <!-- 100 -->\n      <defs>\n       <path d=\"M 12.40625 8.296875  L 28.515625 8.296875  L 28.515625 63.921875  L 10.984375 60.40625  L 10.984375 69.390625  L 28.421875 72.90625  L 38.28125 72.90625  L 38.28125 8.296875  L 54.390625 8.296875  L 54.390625 0  L 12.40625 0  z \" id=\"DejaVuSans-49\"/>\n      </defs>\n      <g transform=\"translate(523.39 32.07125)scale(0.12 -0.12)\">\n       <use xlink:href=\"#DejaVuSans-49\"/>\n       <use x=\"63.623047\" xlink:href=\"#DejaVuSans-48\"/>\n       <use x=\"127.246094\" xlink:href=\"#DejaVuSans-48\"/>\n      </g>\n     </g>\n    </g>\n    <g id=\"text_7\">\n     <!-- Percent carriage (bar) -->\n     <defs>\n      <path d=\"M 19.671875 64.796875  L 19.671875 37.40625  L 32.078125 37.40625  Q 38.96875 37.40625 42.71875 40.96875  Q 46.484375 44.53125 46.484375 51.125  Q 46.484375 57.671875 42.71875 61.234375  Q 38.96875 64.796875 32.078125 64.796875  z M 9.8125 72.90625  L 32.078125 72.90625  Q 44.34375 72.90625 50.609375 67.359375  Q 56.890625 61.8125 56.890625 51.125  Q 56.890625 40.328125 50.609375 34.8125  Q 44.34375 29.296875 32.078125 29.296875  L 19.671875 29.296875  L 19.671875 0  L 9.8125 0  z \" id=\"DejaVuSans-80\"/>\n      <path d=\"M 56.203125 29.59375  L 56.203125 25.203125  L 14.890625 25.203125  Q 15.484375 15.921875 20.484375 11.0625  Q 25.484375 6.203125 34.421875 6.203125  Q 39.59375 6.203125 44.453125 7.46875  Q 49.3125 8.734375 54.109375 11.28125  L 54.109375 2.78125  Q 49.265625 0.734375 44.1875 -0.34375  Q 39.109375 -1.421875 33.890625 -1.421875  Q 20.796875 -1.421875 13.15625 6.1875  Q 5.515625 13.8125 5.515625 26.8125  Q 5.515625 40.234375 12.765625 48.109375  Q 20.015625 56 32.328125 56  Q 43.359375 56 49.78125 48.890625  Q 56.203125 41.796875 56.203125 29.59375  z M 47.21875 32.234375  Q 47.125 39.59375 43.09375 43.984375  Q 39.0625 48.390625 32.421875 48.390625  Q 24.90625 48.390625 20.390625 44.140625  Q 15.875 39.890625 15.1875 32.171875  z \" id=\"DejaVuSans-101\"/>\n      <path d=\"M 41.109375 46.296875  Q 39.59375 47.171875 37.8125 47.578125  Q 36.03125 48 33.890625 48  Q 26.265625 48 22.1875 43.046875  Q 18.109375 38.09375 18.109375 28.8125  L 18.109375 0  L 9.078125 0  L 9.078125 54.6875  L 18.109375 54.6875  L 18.109375 46.1875  Q 20.953125 51.171875 25.484375 53.578125  Q 30.03125 56 36.53125 56  Q 37.453125 56 38.578125 55.875  Q 39.703125 55.765625 41.0625 55.515625  z \" id=\"DejaVuSans-114\"/>\n      <path d=\"M 48.78125 52.59375  L 48.78125 44.1875  Q 44.96875 46.296875 41.140625 47.34375  Q 37.3125 48.390625 33.40625 48.390625  Q 24.65625 48.390625 19.8125 42.84375  Q 14.984375 37.3125 14.984375 27.296875  Q 14.984375 17.28125 19.8125 11.734375  Q 24.65625 6.203125 33.40625 6.203125  Q 37.3125 6.203125 41.140625 7.25  Q 44.96875 8.296875 48.78125 10.40625  L 48.78125 2.09375  Q 45.015625 0.34375 40.984375 -0.53125  Q 36.96875 -1.421875 32.421875 -1.421875  Q 20.0625 -1.421875 12.78125 6.34375  Q 5.515625 14.109375 5.515625 27.296875  Q 5.515625 40.671875 12.859375 48.328125  Q 20.21875 56 33.015625 56  Q 37.15625 56 41.109375 55.140625  Q 45.0625 54.296875 48.78125 52.59375  z \" id=\"DejaVuSans-99\"/>\n      <path d=\"M 54.890625 33.015625  L 54.890625 0  L 45.90625 0  L 45.90625 32.71875  Q 45.90625 40.484375 42.875 44.328125  Q 39.84375 48.1875 33.796875 48.1875  Q 26.515625 48.1875 22.3125 43.546875  Q 18.109375 38.921875 18.109375 30.90625  L 18.109375 0  L 9.078125 0  L 9.078125 54.6875  L 18.109375 54.6875  L 18.109375 46.1875  Q 21.34375 51.125 25.703125 53.5625  Q 30.078125 56 35.796875 56  Q 45.21875 56 50.046875 50.171875  Q 54.890625 44.34375 54.890625 33.015625  z \" id=\"DejaVuSans-110\"/>\n      <path d=\"M 18.3125 70.21875  L 18.3125 54.6875  L 36.8125 54.6875  L 36.8125 47.703125  L 18.3125 47.703125  L 18.3125 18.015625  Q 18.3125 11.328125 20.140625 9.421875  Q 21.96875 7.515625 27.59375 7.515625  L 36.8125 7.515625  L 36.8125 0  L 27.59375 0  Q 17.1875 0 13.234375 3.875  Q 9.28125 7.765625 9.28125 18.015625  L 9.28125 47.703125  L 2.6875 47.703125  L 2.6875 54.6875  L 9.28125 54.6875  L 9.28125 70.21875  z \" id=\"DejaVuSans-116\"/>\n      <path id=\"DejaVuSans-32\"/>\n      <path d=\"M 34.28125 27.484375  Q 23.390625 27.484375 19.1875 25  Q 14.984375 22.515625 14.984375 16.5  Q 14.984375 11.71875 18.140625 8.90625  Q 21.296875 6.109375 26.703125 6.109375  Q 34.1875 6.109375 38.703125 11.40625  Q 43.21875 16.703125 43.21875 25.484375  L 43.21875 27.484375  z M 52.203125 31.203125  L 52.203125 0  L 43.21875 0  L 43.21875 8.296875  Q 40.140625 3.328125 35.546875 0.953125  Q 30.953125 -1.421875 24.3125 -1.421875  Q 15.921875 -1.421875 10.953125 3.296875  Q 6 8.015625 6 15.921875  Q 6 25.140625 12.171875 29.828125  Q 18.359375 34.515625 30.609375 34.515625  L 43.21875 34.515625  L 43.21875 35.40625  Q 43.21875 41.609375 39.140625 45  Q 35.0625 48.390625 27.6875 48.390625  Q 23 48.390625 18.546875 47.265625  Q 14.109375 46.140625 10.015625 43.890625  L 10.015625 52.203125  Q 14.9375 54.109375 19.578125 55.046875  Q 24.21875 56 28.609375 56  Q 40.484375 56 46.34375 49.84375  Q 52.203125 43.703125 52.203125 31.203125  z \" id=\"DejaVuSans-97\"/>\n      <path d=\"M 9.421875 54.6875  L 18.40625 54.6875  L 18.40625 0  L 9.421875 0  z M 9.421875 75.984375  L 18.40625 75.984375  L 18.40625 64.59375  L 9.421875 64.59375  z \" id=\"DejaVuSans-105\"/>\n      <path d=\"M 45.40625 27.984375  Q 45.40625 37.75 41.375 43.109375  Q 37.359375 48.484375 30.078125 48.484375  Q 22.859375 48.484375 18.828125 43.109375  Q 14.796875 37.75 14.796875 27.984375  Q 14.796875 18.265625 18.828125 12.890625  Q 22.859375 7.515625 30.078125 7.515625  Q 37.359375 7.515625 41.375 12.890625  Q 45.40625 18.265625 45.40625 27.984375  z M 54.390625 6.78125  Q 54.390625 -7.171875 48.1875 -13.984375  Q 42 -20.796875 29.203125 -20.796875  Q 24.46875 -20.796875 20.265625 -20.09375  Q 16.0625 -19.390625 12.109375 -17.921875  L 12.109375 -9.1875  Q 16.0625 -11.328125 19.921875 -12.34375  Q 23.78125 -13.375 27.78125 -13.375  Q 36.625 -13.375 41.015625 -8.765625  Q 45.40625 -4.15625 45.40625 5.171875  L 45.40625 9.625  Q 42.625 4.78125 38.28125 2.390625  Q 33.9375 0 27.875 0  Q 17.828125 0 11.671875 7.65625  Q 5.515625 15.328125 5.515625 27.984375  Q 5.515625 40.671875 11.671875 48.328125  Q 17.828125 56 27.875 56  Q 33.9375 56 38.28125 53.609375  Q 42.625 51.21875 45.40625 46.390625  L 45.40625 54.6875  L 54.390625 54.6875  z \" id=\"DejaVuSans-103\"/>\n      <path d=\"M 31 75.875  Q 24.46875 64.65625 21.28125 53.65625  Q 18.109375 42.671875 18.109375 31.390625  Q 18.109375 20.125 21.3125 9.0625  Q 24.515625 -2 31 -13.1875  L 23.1875 -13.1875  Q 15.875 -1.703125 12.234375 9.375  Q 8.59375 20.453125 8.59375 31.390625  Q 8.59375 42.28125 12.203125 53.3125  Q 15.828125 64.359375 23.1875 75.875  z \" id=\"DejaVuSans-40\"/>\n      <path d=\"M 48.6875 27.296875  Q 48.6875 37.203125 44.609375 42.84375  Q 40.53125 48.484375 33.40625 48.484375  Q 26.265625 48.484375 22.1875 42.84375  Q 18.109375 37.203125 18.109375 27.296875  Q 18.109375 17.390625 22.1875 11.75  Q 26.265625 6.109375 33.40625 6.109375  Q 40.53125 6.109375 44.609375 11.75  Q 48.6875 17.390625 48.6875 27.296875  z M 18.109375 46.390625  Q 20.953125 51.265625 25.265625 53.625  Q 29.59375 56 35.59375 56  Q 45.5625 56 51.78125 48.09375  Q 58.015625 40.1875 58.015625 27.296875  Q 58.015625 14.40625 51.78125 6.484375  Q 45.5625 -1.421875 35.59375 -1.421875  Q 29.59375 -1.421875 25.265625 0.953125  Q 20.953125 3.328125 18.109375 8.203125  L 18.109375 0  L 9.078125 0  L 9.078125 75.984375  L 18.109375 75.984375  z \" id=\"DejaVuSans-98\"/>\n      <path d=\"M 8.015625 75.875  L 15.828125 75.875  Q 23.140625 64.359375 26.78125 53.3125  Q 30.421875 42.28125 30.421875 31.390625  Q 30.421875 20.453125 26.78125 9.375  Q 23.140625 -1.703125 15.828125 -13.1875  L 8.015625 -13.1875  Q 14.5 -2 17.703125 9.0625  Q 20.90625 20.125 20.90625 31.390625  Q 20.90625 42.671875 17.703125 53.65625  Q 14.5 64.65625 8.015625 75.875  z \" id=\"DejaVuSans-41\"/>\n     </defs>\n     <g transform=\"translate(560.413125 206.11625)rotate(-90)scale(0.12 -0.12)\">\n      <use xlink:href=\"#DejaVuSans-80\"/>\n      <use x=\"56.677734\" xlink:href=\"#DejaVuSans-101\"/>\n      <use x=\"118.201172\" xlink:href=\"#DejaVuSans-114\"/>\n      <use x=\"157.064453\" xlink:href=\"#DejaVuSans-99\"/>\n      <use x=\"212.044922\" xlink:href=\"#DejaVuSans-101\"/>\n      <use x=\"273.568359\" xlink:href=\"#DejaVuSans-110\"/>\n      <use x=\"336.947266\" xlink:href=\"#DejaVuSans-116\"/>\n      <use x=\"376.15625\" xlink:href=\"#DejaVuSans-32\"/>\n      <use x=\"407.943359\" xlink:href=\"#DejaVuSans-99\"/>\n      <use x=\"462.923828\" xlink:href=\"#DejaVuSans-97\"/>\n      <use x=\"524.203125\" xlink:href=\"#DejaVuSans-114\"/>\n      <use x=\"563.566406\" xlink:href=\"#DejaVuSans-114\"/>\n      <use x=\"604.679688\" xlink:href=\"#DejaVuSans-105\"/>\n      <use x=\"632.462891\" xlink:href=\"#DejaVuSans-97\"/>\n      <use x=\"693.742188\" xlink:href=\"#DejaVuSans-103\"/>\n      <use x=\"757.21875\" xlink:href=\"#DejaVuSans-101\"/>\n      <use x=\"818.742188\" xlink:href=\"#DejaVuSans-32\"/>\n      <use x=\"850.529297\" xlink:href=\"#DejaVuSans-40\"/>\n      <use x=\"889.542969\" xlink:href=\"#DejaVuSans-98\"/>\n      <use x=\"953.019531\" xlink:href=\"#DejaVuSans-97\"/>\n      <use x=\"1014.298828\" xlink:href=\"#DejaVuSans-114\"/>\n      <use x=\"1055.412109\" xlink:href=\"#DejaVuSans-41\"/>\n     </g>\n    </g>\n   </g>\n   <g id=\"text_8\">\n    <!-- 2 -->\n    <g transform=\"translate(88.845 177.68)rotate(-90)scale(0.12 -0.12)\">\n     <use xlink:href=\"#DejaVuSans-50\"/>\n    </g>\n   </g>\n   <g id=\"text_9\">\n    <!-- 1 -->\n    <g transform=\"translate(146.6925 214.91)rotate(-90)scale(0.12 -0.12)\">\n     <use xlink:href=\"#DejaVuSans-49\"/>\n    </g>\n   </g>\n   <g id=\"text_10\">\n    <!-- 2 -->\n    <g transform=\"translate(204.54 177.68)rotate(-90)scale(0.12 -0.12)\">\n     <use xlink:href=\"#DejaVuSans-50\"/>\n    </g>\n   </g>\n   <g id=\"text_11\">\n    <!-- 2 -->\n    <g transform=\"translate(262.3875 177.68)rotate(-90)scale(0.12 -0.12)\">\n     <use xlink:href=\"#DejaVuSans-50\"/>\n    </g>\n   </g>\n   <g id=\"text_12\">\n    <!-- 2 -->\n    <g transform=\"translate(320.235 177.68)rotate(-90)scale(0.12 -0.12)\">\n     <use xlink:href=\"#DejaVuSans-50\"/>\n    </g>\n   </g>\n   <g id=\"text_13\">\n    <!-- 3 -->\n    <defs>\n     <path d=\"M 40.578125 39.3125  Q 47.65625 37.796875 51.625 33  Q 55.609375 28.21875 55.609375 21.1875  Q 55.609375 10.40625 48.1875 4.484375  Q 40.765625 -1.421875 27.09375 -1.421875  Q 22.515625 -1.421875 17.65625 -0.515625  Q 12.796875 0.390625 7.625 2.203125  L 7.625 11.71875  Q 11.71875 9.328125 16.59375 8.109375  Q 21.484375 6.890625 26.8125 6.890625  Q 36.078125 6.890625 40.9375 10.546875  Q 45.796875 14.203125 45.796875 21.1875  Q 45.796875 27.640625 41.28125 31.265625  Q 36.765625 34.90625 28.71875 34.90625  L 20.21875 34.90625  L 20.21875 43.015625  L 29.109375 43.015625  Q 36.375 43.015625 40.234375 45.921875  Q 44.09375 48.828125 44.09375 54.296875  Q 44.09375 59.90625 40.109375 62.90625  Q 36.140625 65.921875 28.71875 65.921875  Q 24.65625 65.921875 20.015625 65.03125  Q 15.375 64.15625 9.8125 62.3125  L 9.8125 71.09375  Q 15.4375 72.65625 20.34375 73.4375  Q 25.25 74.21875 29.59375 74.21875  Q 40.828125 74.21875 47.359375 69.109375  Q 53.90625 64.015625 53.90625 55.328125  Q 53.90625 49.265625 50.4375 45.09375  Q 46.96875 40.921875 40.578125 39.3125  z \" id=\"DejaVuSans-51\"/>\n    </defs>\n    <g transform=\"translate(378.0825 140.45)rotate(-90)scale(0.12 -0.12)\">\n     <use xlink:href=\"#DejaVuSans-51\"/>\n    </g>\n   </g>\n   <g id=\"text_14\">\n    <!-- 1 -->\n    <g transform=\"translate(435.93 214.91)rotate(-90)scale(0.12 -0.12)\">\n     <use xlink:href=\"#DejaVuSans-49\"/>\n    </g>\n   </g>\n   <g id=\"text_15\">\n    <!-- 1 -->\n    <g transform=\"translate(493.7775 214.91)rotate(-90)scale(0.12 -0.12)\">\n     <use xlink:href=\"#DejaVuSans-49\"/>\n    </g>\n   </g>\n  </g>\n  <g id=\"axes_2\">\n   <g id=\"patch_14\">\n    <path d=\"M 56.61 252.14  L 519.39 252.14  L 519.39 28.76  L 56.61 28.76  z \" style=\"fill:none;\"/>\n   </g>\n   <g id=\"line2d_7\">\n    <path clip-path=\"url(#p36f47f11d6)\" d=\"M 85.53375 28.76  L 85.53375 28.76  \" style=\"fill:none;stroke:#0000ff;stroke-dasharray:6,6;stroke-dashoffset:0;\"/>\n   </g>\n   <g id=\"line2d_8\">\n    <path clip-path=\"url(#p36f47f11d6)\" d=\"M 85.53375 28.76  L 85.53375 28.76  \" style=\"fill:none;stroke:#0000ff;stroke-dasharray:6,6;stroke-dashoffset:0;\"/>\n   </g>\n   <g id=\"line2d_9\">\n    <path clip-path=\"url(#p36f47f11d6)\" d=\"M 78.302813 28.76  L 92.764688 28.76  \" style=\"fill:none;stroke:#000000;stroke-linecap:square;\"/>\n   </g>\n   <g id=\"line2d_10\">\n    <path clip-path=\"url(#p36f47f11d6)\" d=\"M 78.302813 28.76  L 92.764688 28.76  \" style=\"fill:none;stroke:#000000;stroke-linecap:square;\"/>\n   </g>\n   <g id=\"line2d_11\"/>\n   <g id=\"line2d_12\">\n    <path clip-path=\"url(#p36f47f11d6)\" d=\"M 143.38125 29.045926  L 143.38125 29.045926  \" style=\"fill:none;stroke:#0000ff;stroke-dasharray:6,6;stroke-dashoffset:0;\"/>\n   </g>\n   <g id=\"line2d_13\">\n    <path clip-path=\"url(#p36f47f11d6)\" d=\"M 143.38125 29.045926  L 143.38125 29.045926  \" style=\"fill:none;stroke:#0000ff;stroke-dasharray:6,6;stroke-dashoffset:0;\"/>\n   </g>\n   <g id=\"line2d_14\">\n    <path clip-path=\"url(#p36f47f11d6)\" d=\"M 136.150313 29.045926  L 150.612188 29.045926  \" style=\"fill:none;stroke:#000000;stroke-linecap:square;\"/>\n   </g>\n   <g id=\"line2d_15\">\n    <path clip-path=\"url(#p36f47f11d6)\" d=\"M 136.150313 29.045926  L 150.612188 29.045926  \" style=\"fill:none;stroke:#000000;stroke-linecap:square;\"/>\n   </g>\n   <g id=\"line2d_16\"/>\n   <g id=\"line2d_17\">\n    <path clip-path=\"url(#p36f47f11d6)\" d=\"M 201.22875 28.76  L 201.22875 28.76  \" style=\"fill:none;stroke:#0000ff;stroke-dasharray:6,6;stroke-dashoffset:0;\"/>\n   </g>\n   <g id=\"line2d_18\">\n    <path clip-path=\"url(#p36f47f11d6)\" d=\"M 201.22875 28.76  L 201.22875 28.76  \" style=\"fill:none;stroke:#0000ff;stroke-dasharray:6,6;stroke-dashoffset:0;\"/>\n   </g>\n   <g id=\"line2d_19\">\n    <path clip-path=\"url(#p36f47f11d6)\" d=\"M 193.997812 28.76  L 208.459688 28.76  \" style=\"fill:none;stroke:#000000;stroke-linecap:square;\"/>\n   </g>\n   <g id=\"line2d_20\">\n    <path clip-path=\"url(#p36f47f11d6)\" d=\"M 193.997812 28.76  L 208.459688 28.76  \" style=\"fill:none;stroke:#000000;stroke-linecap:square;\"/>\n   </g>\n   <g id=\"line2d_21\"/>\n   <g id=\"line2d_22\">\n    <path clip-path=\"url(#p36f47f11d6)\" d=\"M 259.07625 28.76  L 259.07625 28.76  \" style=\"fill:none;stroke:#0000ff;stroke-dasharray:6,6;stroke-dashoffset:0;\"/>\n   </g>\n   <g id=\"line2d_23\">\n    <path clip-path=\"url(#p36f47f11d6)\" d=\"M 259.07625 28.76  L 259.07625 28.76  \" style=\"fill:none;stroke:#0000ff;stroke-dasharray:6,6;stroke-dashoffset:0;\"/>\n   </g>\n   <g id=\"line2d_24\">\n    <path clip-path=\"url(#p36f47f11d6)\" d=\"M 251.845312 28.76  L 266.307187 28.76  \" style=\"fill:none;stroke:#000000;stroke-linecap:square;\"/>\n   </g>\n   <g id=\"line2d_25\">\n    <path clip-path=\"url(#p36f47f11d6)\" d=\"M 251.845312 28.76  L 266.307187 28.76  \" style=\"fill:none;stroke:#000000;stroke-linecap:square;\"/>\n   </g>\n   <g id=\"line2d_26\"/>\n   <g id=\"line2d_27\">\n    <path clip-path=\"url(#p36f47f11d6)\" d=\"M 316.92375 28.76  L 316.92375 28.76  \" style=\"fill:none;stroke:#0000ff;stroke-dasharray:6,6;stroke-dashoffset:0;\"/>\n   </g>\n   <g id=\"line2d_28\">\n    <path clip-path=\"url(#p36f47f11d6)\" d=\"M 316.92375 28.76  L 316.92375 28.76  \" style=\"fill:none;stroke:#0000ff;stroke-dasharray:6,6;stroke-dashoffset:0;\"/>\n   </g>\n   <g id=\"line2d_29\">\n    <path clip-path=\"url(#p36f47f11d6)\" d=\"M 309.692813 28.76  L 324.154688 28.76  \" style=\"fill:none;stroke:#000000;stroke-linecap:square;\"/>\n   </g>\n   <g id=\"line2d_30\">\n    <path clip-path=\"url(#p36f47f11d6)\" d=\"M 309.692813 28.76  L 324.154688 28.76  \" style=\"fill:none;stroke:#000000;stroke-linecap:square;\"/>\n   </g>\n   <g id=\"line2d_31\"/>\n   <g id=\"line2d_32\">\n    <path clip-path=\"url(#p36f47f11d6)\" d=\"M 374.77125 28.76  L 374.77125 28.76  \" style=\"fill:none;stroke:#0000ff;stroke-dasharray:6,6;stroke-dashoffset:0;\"/>\n   </g>\n   <g id=\"line2d_33\">\n    <path clip-path=\"url(#p36f47f11d6)\" d=\"M 374.77125 28.76  L 374.77125 28.76  \" style=\"fill:none;stroke:#0000ff;stroke-dasharray:6,6;stroke-dashoffset:0;\"/>\n   </g>\n   <g id=\"line2d_34\">\n    <path clip-path=\"url(#p36f47f11d6)\" d=\"M 367.540313 28.76  L 382.002187 28.76  \" style=\"fill:none;stroke:#000000;stroke-linecap:square;\"/>\n   </g>\n   <g id=\"line2d_35\">\n    <path clip-path=\"url(#p36f47f11d6)\" d=\"M 367.540313 28.76  L 382.002187 28.76  \" style=\"fill:none;stroke:#000000;stroke-linecap:square;\"/>\n   </g>\n   <g id=\"line2d_36\"/>\n   <g id=\"line2d_37\">\n    <path clip-path=\"url(#p36f47f11d6)\" d=\"M 432.61875 41.55744  L 432.61875 41.55744  \" style=\"fill:none;stroke:#0000ff;stroke-dasharray:6,6;stroke-dashoffset:0;\"/>\n   </g>\n   <g id=\"line2d_38\">\n    <path clip-path=\"url(#p36f47f11d6)\" d=\"M 432.61875 41.55744  L 432.61875 41.55744  \" style=\"fill:none;stroke:#0000ff;stroke-dasharray:6,6;stroke-dashoffset:0;\"/>\n   </g>\n   <g id=\"line2d_39\">\n    <path clip-path=\"url(#p36f47f11d6)\" d=\"M 425.387812 41.55744  L 439.849688 41.55744  \" style=\"fill:none;stroke:#000000;stroke-linecap:square;\"/>\n   </g>\n   <g id=\"line2d_40\">\n    <path clip-path=\"url(#p36f47f11d6)\" d=\"M 425.387812 41.55744  L 439.849688 41.55744  \" style=\"fill:none;stroke:#000000;stroke-linecap:square;\"/>\n   </g>\n   <g id=\"line2d_41\"/>\n   <g id=\"line2d_42\">\n    <path clip-path=\"url(#p36f47f11d6)\" d=\"M 490.46625 29.36536  L 490.46625 29.36536  \" style=\"fill:none;stroke:#0000ff;stroke-dasharray:6,6;stroke-dashoffset:0;\"/>\n   </g>\n   <g id=\"line2d_43\">\n    <path clip-path=\"url(#p36f47f11d6)\" d=\"M 490.46625 29.36536  L 490.46625 29.36536  \" style=\"fill:none;stroke:#0000ff;stroke-dasharray:6,6;stroke-dashoffset:0;\"/>\n   </g>\n   <g id=\"line2d_44\">\n    <path clip-path=\"url(#p36f47f11d6)\" d=\"M 483.235313 29.36536  L 497.697187 29.36536  \" style=\"fill:none;stroke:#000000;stroke-linecap:square;\"/>\n   </g>\n   <g id=\"line2d_45\">\n    <path clip-path=\"url(#p36f47f11d6)\" d=\"M 483.235313 29.36536  L 497.697187 29.36536  \" style=\"fill:none;stroke:#000000;stroke-linecap:square;\"/>\n   </g>\n   <g id=\"line2d_46\"/>\n   <g id=\"patch_15\">\n    <path clip-path=\"url(#p36f47f11d6)\" d=\"M 71.071875 28.76  L 99.995625 28.76  L 99.995625 28.76  L 71.071875 28.76  L 71.071875 28.76  z \" style=\"fill:#ffffff;stroke:#0000ff;stroke-linejoin:miter;\"/>\n   </g>\n   <g id=\"patch_16\">\n    <path clip-path=\"url(#p36f47f11d6)\" d=\"M 128.919375 29.045926  L 157.843125 29.045926  L 157.843125 29.045926  L 128.919375 29.045926  L 128.919375 29.045926  z \" style=\"fill:#ffffff;stroke:#0000ff;stroke-linejoin:miter;\"/>\n   </g>\n   <g id=\"patch_17\">\n    <path clip-path=\"url(#p36f47f11d6)\" d=\"M 186.766875 28.76  L 215.690625 28.76  L 215.690625 28.76  L 186.766875 28.76  L 186.766875 28.76  z \" style=\"fill:#ffffff;stroke:#0000ff;stroke-linejoin:miter;\"/>\n   </g>\n   <g id=\"patch_18\">\n    <path clip-path=\"url(#p36f47f11d6)\" d=\"M 244.614375 28.76  L 273.538125 28.76  L 273.538125 28.76  L 244.614375 28.76  L 244.614375 28.76  z \" style=\"fill:#ffffff;stroke:#0000ff;stroke-linejoin:miter;\"/>\n   </g>\n   <g id=\"patch_19\">\n    <path clip-path=\"url(#p36f47f11d6)\" d=\"M 302.461875 28.76  L 331.385625 28.76  L 331.385625 28.76  L 302.461875 28.76  L 302.461875 28.76  z \" style=\"fill:#ffffff;stroke:#0000ff;stroke-linejoin:miter;\"/>\n   </g>\n   <g id=\"patch_20\">\n    <path clip-path=\"url(#p36f47f11d6)\" d=\"M 360.309375 28.76  L 389.233125 28.76  L 389.233125 28.76  L 360.309375 28.76  L 360.309375 28.76  z \" style=\"fill:#ffffff;stroke:#0000ff;stroke-linejoin:miter;\"/>\n   </g>\n   <g id=\"patch_21\">\n    <path clip-path=\"url(#p36f47f11d6)\" d=\"M 418.156875 41.55744  L 447.080625 41.55744  L 447.080625 41.55744  L 418.156875 41.55744  L 418.156875 41.55744  z \" style=\"fill:#ffffff;stroke:#0000ff;stroke-linejoin:miter;\"/>\n   </g>\n   <g id=\"patch_22\">\n    <path clip-path=\"url(#p36f47f11d6)\" d=\"M 476.004375 29.36536  L 504.928125 29.36536  L 504.928125 29.36536  L 476.004375 29.36536  L 476.004375 29.36536  z \" style=\"fill:#ffffff;stroke:#0000ff;stroke-linejoin:miter;\"/>\n   </g>\n   <g id=\"line2d_47\">\n    <path clip-path=\"url(#p36f47f11d6)\" d=\"M 71.071875 28.76  L 99.995625 28.76  \" style=\"fill:none;stroke:#ff0000;stroke-linecap:square;\"/>\n   </g>\n   <g id=\"line2d_48\">\n    <path clip-path=\"url(#p36f47f11d6)\" d=\"M 128.919375 29.045926  L 157.843125 29.045926  \" style=\"fill:none;stroke:#ff0000;stroke-linecap:square;\"/>\n   </g>\n   <g id=\"line2d_49\">\n    <path clip-path=\"url(#p36f47f11d6)\" d=\"M 186.766875 28.76  L 215.690625 28.76  \" style=\"fill:none;stroke:#ff0000;stroke-linecap:square;\"/>\n   </g>\n   <g id=\"line2d_50\">\n    <path clip-path=\"url(#p36f47f11d6)\" d=\"M 244.614375 28.76  L 273.538125 28.76  \" style=\"fill:none;stroke:#ff0000;stroke-linecap:square;\"/>\n   </g>\n   <g id=\"line2d_51\">\n    <path clip-path=\"url(#p36f47f11d6)\" d=\"M 302.461875 28.76  L 331.385625 28.76  \" style=\"fill:none;stroke:#ff0000;stroke-linecap:square;\"/>\n   </g>\n   <g id=\"line2d_52\">\n    <path clip-path=\"url(#p36f47f11d6)\" d=\"M 360.309375 28.76  L 389.233125 28.76  \" style=\"fill:none;stroke:#ff0000;stroke-linecap:square;\"/>\n   </g>\n   <g id=\"line2d_53\">\n    <path clip-path=\"url(#p36f47f11d6)\" d=\"M 418.156875 41.55744  L 447.080625 41.55744  \" style=\"fill:none;stroke:#ff0000;stroke-linecap:square;\"/>\n   </g>\n   <g id=\"line2d_54\">\n    <path clip-path=\"url(#p36f47f11d6)\" d=\"M 476.004375 29.36536  L 504.928125 29.36536  \" style=\"fill:none;stroke:#ff0000;stroke-linecap:square;\"/>\n   </g>\n   <g id=\"patch_23\">\n    <path d=\"M 56.61 252.14  L 56.61 28.76  \" style=\"fill:none;stroke:#000000;stroke-linecap:square;stroke-linejoin:miter;\"/>\n   </g>\n   <g id=\"patch_24\">\n    <path d=\"M 519.39 252.14  L 519.39 28.76  \" style=\"fill:none;stroke:#000000;stroke-linecap:square;stroke-linejoin:miter;\"/>\n   </g>\n   <g id=\"patch_25\">\n    <path d=\"M 56.61 252.14  L 519.39 252.14  \" style=\"fill:none;stroke:#000000;stroke-linecap:square;stroke-linejoin:miter;\"/>\n   </g>\n   <g id=\"patch_26\">\n    <path d=\"M 56.61 28.76  L 519.39 28.76  \" style=\"fill:none;stroke:#000000;stroke-linecap:square;stroke-linejoin:miter;\"/>\n   </g>\n   <g id=\"matplotlib.axis_2\">\n    <g id=\"xtick_1\">\n     <g id=\"line2d_55\">\n      <defs>\n       <path d=\"M 0 0  L 0 -4  \" id=\"m3b6e42fe33\" style=\"stroke:#000000;stroke-width:0.5;\"/>\n      </defs>\n      <g>\n       <use style=\"stroke:#000000;stroke-width:0.5;\" x=\"85.53375\" xlink:href=\"#m3b6e42fe33\" y=\"252.14\"/>\n      </g>\n     </g>\n     <g id=\"line2d_56\">\n      <defs>\n       <path d=\"M 0 0  L 0 4  \" id=\"mcec1e22cba\" style=\"stroke:#000000;stroke-width:0.5;\"/>\n      </defs>\n      <g>\n       <use style=\"stroke:#000000;stroke-width:0.5;\" x=\"85.53375\" xlink:href=\"#mcec1e22cba\" y=\"28.76\"/>\n      </g>\n     </g>\n     <g id=\"text_16\">\n      <!-- speA2_M5005_Spy0996 -->\n      <defs>\n       <path d=\"M 44.28125 53.078125  L 44.28125 44.578125  Q 40.484375 46.53125 36.375 47.5  Q 32.28125 48.484375 27.875 48.484375  Q 21.1875 48.484375 17.84375 46.4375  Q 14.5 44.390625 14.5 40.28125  Q 14.5 37.15625 16.890625 35.375  Q 19.28125 33.59375 26.515625 31.984375  L 29.59375 31.296875  Q 39.15625 29.25 43.1875 25.515625  Q 47.21875 21.78125 47.21875 15.09375  Q 47.21875 7.46875 41.1875 3.015625  Q 35.15625 -1.421875 24.609375 -1.421875  Q 20.21875 -1.421875 15.453125 -0.5625  Q 10.6875 0.296875 5.421875 2  L 5.421875 11.28125  Q 10.40625 8.6875 15.234375 7.390625  Q 20.0625 6.109375 24.8125 6.109375  Q 31.15625 6.109375 34.5625 8.28125  Q 37.984375 10.453125 37.984375 14.40625  Q 37.984375 18.0625 35.515625 20.015625  Q 33.0625 21.96875 24.703125 23.78125  L 21.578125 24.515625  Q 13.234375 26.265625 9.515625 29.90625  Q 5.8125 33.546875 5.8125 39.890625  Q 5.8125 47.609375 11.28125 51.796875  Q 16.75 56 26.8125 56  Q 31.78125 56 36.171875 55.265625  Q 40.578125 54.546875 44.28125 53.078125  z \" id=\"DejaVuSans-115\"/>\n       <path d=\"M 18.109375 8.203125  L 18.109375 -20.796875  L 9.078125 -20.796875  L 9.078125 54.6875  L 18.109375 54.6875  L 18.109375 46.390625  Q 20.953125 51.265625 25.265625 53.625  Q 29.59375 56 35.59375 56  Q 45.5625 56 51.78125 48.09375  Q 58.015625 40.1875 58.015625 27.296875  Q 58.015625 14.40625 51.78125 6.484375  Q 45.5625 -1.421875 35.59375 -1.421875  Q 29.59375 -1.421875 25.265625 0.953125  Q 20.953125 3.328125 18.109375 8.203125  z M 48.6875 27.296875  Q 48.6875 37.203125 44.609375 42.84375  Q 40.53125 48.484375 33.40625 48.484375  Q 26.265625 48.484375 22.1875 42.84375  Q 18.109375 37.203125 18.109375 27.296875  Q 18.109375 17.390625 22.1875 11.75  Q 26.265625 6.109375 33.40625 6.109375  Q 40.53125 6.109375 44.609375 11.75  Q 48.6875 17.390625 48.6875 27.296875  z \" id=\"DejaVuSans-112\"/>\n       <path d=\"M 34.1875 63.1875  L 20.796875 26.90625  L 47.609375 26.90625  z M 28.609375 72.90625  L 39.796875 72.90625  L 67.578125 0  L 57.328125 0  L 50.6875 18.703125  L 17.828125 18.703125  L 11.1875 0  L 0.78125 0  z \" id=\"DejaVuSans-65\"/>\n       <path d=\"M 50.984375 -16.609375  L 50.984375 -23.578125  L -0.984375 -23.578125  L -0.984375 -16.609375  z \" id=\"DejaVuSans-95\"/>\n       <path d=\"M 9.8125 72.90625  L 24.515625 72.90625  L 43.109375 23.296875  L 61.8125 72.90625  L 76.515625 72.90625  L 76.515625 0  L 66.890625 0  L 66.890625 64.015625  L 48.09375 14.015625  L 38.1875 14.015625  L 19.390625 64.015625  L 19.390625 0  L 9.8125 0  z \" id=\"DejaVuSans-77\"/>\n       <path d=\"M 10.796875 72.90625  L 49.515625 72.90625  L 49.515625 64.59375  L 19.828125 64.59375  L 19.828125 46.734375  Q 21.96875 47.46875 24.109375 47.828125  Q 26.265625 48.1875 28.421875 48.1875  Q 40.625 48.1875 47.75 41.5  Q 54.890625 34.8125 54.890625 23.390625  Q 54.890625 11.625 47.5625 5.09375  Q 40.234375 -1.421875 26.90625 -1.421875  Q 22.3125 -1.421875 17.546875 -0.640625  Q 12.796875 0.140625 7.71875 1.703125  L 7.71875 11.625  Q 12.109375 9.234375 16.796875 8.0625  Q 21.484375 6.890625 26.703125 6.890625  Q 35.15625 6.890625 40.078125 11.328125  Q 45.015625 15.765625 45.015625 23.390625  Q 45.015625 31 40.078125 35.4375  Q 35.15625 39.890625 26.703125 39.890625  Q 22.75 39.890625 18.8125 39.015625  Q 14.890625 38.140625 10.796875 36.28125  z \" id=\"DejaVuSans-53\"/>\n       <path d=\"M 53.515625 70.515625  L 53.515625 60.890625  Q 47.90625 63.578125 42.921875 64.890625  Q 37.9375 66.21875 33.296875 66.21875  Q 25.25 66.21875 20.875 63.09375  Q 16.5 59.96875 16.5 54.203125  Q 16.5 49.359375 19.40625 46.890625  Q 22.3125 44.4375 30.421875 42.921875  L 36.375 41.703125  Q 47.40625 39.59375 52.65625 34.296875  Q 57.90625 29 57.90625 20.125  Q 57.90625 9.515625 50.796875 4.046875  Q 43.703125 -1.421875 29.984375 -1.421875  Q 24.8125 -1.421875 18.96875 -0.25  Q 13.140625 0.921875 6.890625 3.21875  L 6.890625 13.375  Q 12.890625 10.015625 18.65625 8.296875  Q 24.421875 6.59375 29.984375 6.59375  Q 38.421875 6.59375 43.015625 9.90625  Q 47.609375 13.234375 47.609375 19.390625  Q 47.609375 24.75 44.3125 27.78125  Q 41.015625 30.8125 33.5 32.328125  L 27.484375 33.5  Q 16.453125 35.6875 11.515625 40.375  Q 6.59375 45.0625 6.59375 53.421875  Q 6.59375 63.09375 13.40625 68.65625  Q 20.21875 74.21875 32.171875 74.21875  Q 37.3125 74.21875 42.625 73.28125  Q 47.953125 72.359375 53.515625 70.515625  z \" id=\"DejaVuSans-83\"/>\n       <path d=\"M 32.171875 -5.078125  Q 28.375 -14.84375 24.75 -17.8125  Q 21.140625 -20.796875 15.09375 -20.796875  L 7.90625 -20.796875  L 7.90625 -13.28125  L 13.1875 -13.28125  Q 16.890625 -13.28125 18.9375 -11.515625  Q 21 -9.765625 23.484375 -3.21875  L 25.09375 0.875  L 2.984375 54.6875  L 12.5 54.6875  L 29.59375 11.921875  L 46.6875 54.6875  L 56.203125 54.6875  z \" id=\"DejaVuSans-121\"/>\n       <path d=\"M 10.984375 1.515625  L 10.984375 10.5  Q 14.703125 8.734375 18.5 7.8125  Q 22.3125 6.890625 25.984375 6.890625  Q 35.75 6.890625 40.890625 13.453125  Q 46.046875 20.015625 46.78125 33.40625  Q 43.953125 29.203125 39.59375 26.953125  Q 35.25 24.703125 29.984375 24.703125  Q 19.046875 24.703125 12.671875 31.3125  Q 6.296875 37.9375 6.296875 49.421875  Q 6.296875 60.640625 12.9375 67.421875  Q 19.578125 74.21875 30.609375 74.21875  Q 43.265625 74.21875 49.921875 64.515625  Q 56.59375 54.828125 56.59375 36.375  Q 56.59375 19.140625 48.40625 8.859375  Q 40.234375 -1.421875 26.421875 -1.421875  Q 22.703125 -1.421875 18.890625 -0.6875  Q 15.09375 0.046875 10.984375 1.515625  z M 30.609375 32.421875  Q 37.25 32.421875 41.125 36.953125  Q 45.015625 41.5 45.015625 49.421875  Q 45.015625 57.28125 41.125 61.84375  Q 37.25 66.40625 30.609375 66.40625  Q 23.96875 66.40625 20.09375 61.84375  Q 16.21875 57.28125 16.21875 49.421875  Q 16.21875 41.5 20.09375 36.953125  Q 23.96875 32.421875 30.609375 32.421875  z \" id=\"DejaVuSans-57\"/>\n      </defs>\n      <g transform=\"translate(88.572187 399.009375)rotate(-90)scale(0.12 -0.12)\">\n       <use xlink:href=\"#DejaVuSans-115\"/>\n       <use x=\"52.099609\" xlink:href=\"#DejaVuSans-112\"/>\n       <use x=\"115.576172\" xlink:href=\"#DejaVuSans-101\"/>\n       <use x=\"177.099609\" xlink:href=\"#DejaVuSans-65\"/>\n       <use x=\"245.507812\" xlink:href=\"#DejaVuSans-50\"/>\n       <use x=\"309.130859\" xlink:href=\"#DejaVuSans-95\"/>\n       <use x=\"359.130859\" xlink:href=\"#DejaVuSans-77\"/>\n       <use x=\"445.410156\" xlink:href=\"#DejaVuSans-53\"/>\n       <use x=\"509.033203\" xlink:href=\"#DejaVuSans-48\"/>\n       <use x=\"572.65625\" xlink:href=\"#DejaVuSans-48\"/>\n       <use x=\"636.279297\" xlink:href=\"#DejaVuSans-53\"/>\n       <use x=\"699.902344\" xlink:href=\"#DejaVuSans-95\"/>\n       <use x=\"749.902344\" xlink:href=\"#DejaVuSans-83\"/>\n       <use x=\"813.378906\" xlink:href=\"#DejaVuSans-112\"/>\n       <use x=\"876.855469\" xlink:href=\"#DejaVuSans-121\"/>\n       <use x=\"936.035156\" xlink:href=\"#DejaVuSans-48\"/>\n       <use x=\"999.658203\" xlink:href=\"#DejaVuSans-57\"/>\n       <use x=\"1063.28125\" xlink:href=\"#DejaVuSans-57\"/>\n       <use x=\"1126.904297\" xlink:href=\"#DejaVuSans-54\"/>\n      </g>\n     </g>\n    </g>\n    <g id=\"xtick_2\">\n     <g id=\"line2d_57\">\n      <g>\n       <use style=\"stroke:#000000;stroke-width:0.5;\" x=\"143.38125\" xlink:href=\"#m3b6e42fe33\" y=\"252.14\"/>\n      </g>\n     </g>\n     <g id=\"line2d_58\">\n      <g>\n       <use style=\"stroke:#000000;stroke-width:0.5;\" x=\"143.38125\" xlink:href=\"#mcec1e22cba\" y=\"28.76\"/>\n      </g>\n     </g>\n     <g id=\"text_17\">\n      <!-- ssa_SpyM3_0920 -->\n      <g transform=\"translate(146.419687 358.86375)rotate(-90)scale(0.12 -0.12)\">\n       <use xlink:href=\"#DejaVuSans-115\"/>\n       <use x=\"52.099609\" xlink:href=\"#DejaVuSans-115\"/>\n       <use x=\"104.199219\" xlink:href=\"#DejaVuSans-97\"/>\n       <use x=\"165.478516\" xlink:href=\"#DejaVuSans-95\"/>\n       <use x=\"215.478516\" xlink:href=\"#DejaVuSans-83\"/>\n       <use x=\"278.955078\" xlink:href=\"#DejaVuSans-112\"/>\n       <use x=\"342.431641\" xlink:href=\"#DejaVuSans-121\"/>\n       <use x=\"401.611328\" xlink:href=\"#DejaVuSans-77\"/>\n       <use x=\"487.890625\" xlink:href=\"#DejaVuSans-51\"/>\n       <use x=\"551.513672\" xlink:href=\"#DejaVuSans-95\"/>\n       <use x=\"601.513672\" xlink:href=\"#DejaVuSans-48\"/>\n       <use x=\"665.136719\" xlink:href=\"#DejaVuSans-57\"/>\n       <use x=\"728.759766\" xlink:href=\"#DejaVuSans-50\"/>\n       <use x=\"792.382812\" xlink:href=\"#DejaVuSans-48\"/>\n      </g>\n     </g>\n    </g>\n    <g id=\"xtick_3\">\n     <g id=\"line2d_59\">\n      <g>\n       <use style=\"stroke:#000000;stroke-width:0.5;\" x=\"201.22875\" xlink:href=\"#m3b6e42fe33\" y=\"252.14\"/>\n      </g>\n     </g>\n     <g id=\"line2d_60\">\n      <g>\n       <use style=\"stroke:#000000;stroke-width:0.5;\" x=\"201.22875\" xlink:href=\"#mcec1e22cba\" y=\"28.76\"/>\n      </g>\n     </g>\n     <g id=\"text_18\">\n      <!-- mf2_SPy_0712 -->\n      <defs>\n       <path d=\"M 52 44.1875  Q 55.375 50.25 60.0625 53.125  Q 64.75 56 71.09375 56  Q 79.640625 56 84.28125 50.015625  Q 88.921875 44.046875 88.921875 33.015625  L 88.921875 0  L 79.890625 0  L 79.890625 32.71875  Q 79.890625 40.578125 77.09375 44.375  Q 74.3125 48.1875 68.609375 48.1875  Q 61.625 48.1875 57.5625 43.546875  Q 53.515625 38.921875 53.515625 30.90625  L 53.515625 0  L 44.484375 0  L 44.484375 32.71875  Q 44.484375 40.625 41.703125 44.40625  Q 38.921875 48.1875 33.109375 48.1875  Q 26.21875 48.1875 22.15625 43.53125  Q 18.109375 38.875 18.109375 30.90625  L 18.109375 0  L 9.078125 0  L 9.078125 54.6875  L 18.109375 54.6875  L 18.109375 46.1875  Q 21.1875 51.21875 25.484375 53.609375  Q 29.78125 56 35.6875 56  Q 41.65625 56 45.828125 52.96875  Q 50 49.953125 52 44.1875  z \" id=\"DejaVuSans-109\"/>\n       <path d=\"M 37.109375 75.984375  L 37.109375 68.5  L 28.515625 68.5  Q 23.6875 68.5 21.796875 66.546875  Q 19.921875 64.59375 19.921875 59.515625  L 19.921875 54.6875  L 34.71875 54.6875  L 34.71875 47.703125  L 19.921875 47.703125  L 19.921875 0  L 10.890625 0  L 10.890625 47.703125  L 2.296875 47.703125  L 2.296875 54.6875  L 10.890625 54.6875  L 10.890625 58.5  Q 10.890625 67.625 15.140625 71.796875  Q 19.390625 75.984375 28.609375 75.984375  z \" id=\"DejaVuSans-102\"/>\n       <path d=\"M 8.203125 72.90625  L 55.078125 72.90625  L 55.078125 68.703125  L 28.609375 0  L 18.3125 0  L 43.21875 64.59375  L 8.203125 64.59375  z \" id=\"DejaVuSans-55\"/>\n      </defs>\n      <g transform=\"translate(204.373125 344.184375)rotate(-90)scale(0.12 -0.12)\">\n       <use xlink:href=\"#DejaVuSans-109\"/>\n       <use x=\"97.412109\" xlink:href=\"#DejaVuSans-102\"/>\n       <use x=\"132.617188\" xlink:href=\"#DejaVuSans-50\"/>\n       <use x=\"196.240234\" xlink:href=\"#DejaVuSans-95\"/>\n       <use x=\"246.240234\" xlink:href=\"#DejaVuSans-83\"/>\n       <use x=\"309.716797\" xlink:href=\"#DejaVuSans-80\"/>\n       <use x=\"370.019531\" xlink:href=\"#DejaVuSans-121\"/>\n       <use x=\"429.199219\" xlink:href=\"#DejaVuSans-95\"/>\n       <use x=\"479.199219\" xlink:href=\"#DejaVuSans-48\"/>\n       <use x=\"542.822266\" xlink:href=\"#DejaVuSans-55\"/>\n       <use x=\"606.445312\" xlink:href=\"#DejaVuSans-49\"/>\n       <use x=\"670.068359\" xlink:href=\"#DejaVuSans-50\"/>\n      </g>\n     </g>\n    </g>\n    <g id=\"xtick_4\">\n     <g id=\"line2d_61\">\n      <g>\n       <use style=\"stroke:#000000;stroke-width:0.5;\" x=\"259.07625\" xlink:href=\"#m3b6e42fe33\" y=\"252.14\"/>\n      </g>\n     </g>\n     <g id=\"line2d_62\">\n      <g>\n       <use style=\"stroke:#000000;stroke-width:0.5;\" x=\"259.07625\" xlink:href=\"#mcec1e22cba\" y=\"28.76\"/>\n      </g>\n     </g>\n     <g id=\"text_19\">\n      <!-- speC_SPy_0711 -->\n      <defs>\n       <path d=\"M 64.40625 67.28125  L 64.40625 56.890625  Q 59.421875 61.53125 53.78125 63.8125  Q 48.140625 66.109375 41.796875 66.109375  Q 29.296875 66.109375 22.65625 58.46875  Q 16.015625 50.828125 16.015625 36.375  Q 16.015625 21.96875 22.65625 14.328125  Q 29.296875 6.6875 41.796875 6.6875  Q 48.140625 6.6875 53.78125 8.984375  Q 59.421875 11.28125 64.40625 15.921875  L 64.40625 5.609375  Q 59.234375 2.09375 53.4375 0.328125  Q 47.65625 -1.421875 41.21875 -1.421875  Q 24.65625 -1.421875 15.125 8.703125  Q 5.609375 18.84375 5.609375 36.375  Q 5.609375 53.953125 15.125 64.078125  Q 24.65625 74.21875 41.21875 74.21875  Q 47.75 74.21875 53.53125 72.484375  Q 59.328125 70.75 64.40625 67.28125  z \" id=\"DejaVuSans-67\"/>\n      </defs>\n      <g transform=\"translate(262.114688 350.26875)rotate(-90)scale(0.12 -0.12)\">\n       <use xlink:href=\"#DejaVuSans-115\"/>\n       <use x=\"52.099609\" xlink:href=\"#DejaVuSans-112\"/>\n       <use x=\"115.576172\" xlink:href=\"#DejaVuSans-101\"/>\n       <use x=\"177.099609\" xlink:href=\"#DejaVuSans-67\"/>\n       <use x=\"246.923828\" xlink:href=\"#DejaVuSans-95\"/>\n       <use x=\"296.923828\" xlink:href=\"#DejaVuSans-83\"/>\n       <use x=\"360.400391\" xlink:href=\"#DejaVuSans-80\"/>\n       <use x=\"420.703125\" xlink:href=\"#DejaVuSans-121\"/>\n       <use x=\"479.882812\" xlink:href=\"#DejaVuSans-95\"/>\n       <use x=\"529.882812\" xlink:href=\"#DejaVuSans-48\"/>\n       <use x=\"593.505859\" xlink:href=\"#DejaVuSans-55\"/>\n       <use x=\"657.128906\" xlink:href=\"#DejaVuSans-49\"/>\n       <use x=\"720.751953\" xlink:href=\"#DejaVuSans-49\"/>\n      </g>\n     </g>\n    </g>\n    <g id=\"xtick_5\">\n     <g id=\"line2d_63\">\n      <g>\n       <use style=\"stroke:#000000;stroke-width:0.5;\" x=\"316.92375\" xlink:href=\"#m3b6e42fe33\" y=\"252.14\"/>\n      </g>\n     </g>\n     <g id=\"line2d_64\">\n      <g>\n       <use style=\"stroke:#000000;stroke-width:0.5;\" x=\"316.92375\" xlink:href=\"#mcec1e22cba\" y=\"28.76\"/>\n      </g>\n     </g>\n     <g id=\"text_20\">\n      <!-- sdaD2_Spy1415 -->\n      <defs>\n       <path d=\"M 45.40625 46.390625  L 45.40625 75.984375  L 54.390625 75.984375  L 54.390625 0  L 45.40625 0  L 45.40625 8.203125  Q 42.578125 3.328125 38.25 0.953125  Q 33.9375 -1.421875 27.875 -1.421875  Q 17.96875 -1.421875 11.734375 6.484375  Q 5.515625 14.40625 5.515625 27.296875  Q 5.515625 40.1875 11.734375 48.09375  Q 17.96875 56 27.875 56  Q 33.9375 56 38.25 53.625  Q 42.578125 51.265625 45.40625 46.390625  z M 14.796875 27.296875  Q 14.796875 17.390625 18.875 11.75  Q 22.953125 6.109375 30.078125 6.109375  Q 37.203125 6.109375 41.296875 11.75  Q 45.40625 17.390625 45.40625 27.296875  Q 45.40625 37.203125 41.296875 42.84375  Q 37.203125 48.484375 30.078125 48.484375  Q 22.953125 48.484375 18.875 42.84375  Q 14.796875 37.203125 14.796875 27.296875  z \" id=\"DejaVuSans-100\"/>\n       <path d=\"M 19.671875 64.796875  L 19.671875 8.109375  L 31.59375 8.109375  Q 46.6875 8.109375 53.6875 14.9375  Q 60.6875 21.78125 60.6875 36.53125  Q 60.6875 51.171875 53.6875 57.984375  Q 46.6875 64.796875 31.59375 64.796875  z M 9.8125 72.90625  L 30.078125 72.90625  Q 51.265625 72.90625 61.171875 64.09375  Q 71.09375 55.28125 71.09375 36.53125  Q 71.09375 17.671875 61.125 8.828125  Q 51.171875 0 30.078125 0  L 9.8125 0  z \" id=\"DejaVuSans-68\"/>\n      </defs>\n      <g transform=\"translate(320.068125 353.116875)rotate(-90)scale(0.12 -0.12)\">\n       <use xlink:href=\"#DejaVuSans-115\"/>\n       <use x=\"52.099609\" xlink:href=\"#DejaVuSans-100\"/>\n       <use x=\"115.576172\" xlink:href=\"#DejaVuSans-97\"/>\n       <use x=\"176.855469\" xlink:href=\"#DejaVuSans-68\"/>\n       <use x=\"253.857422\" xlink:href=\"#DejaVuSans-50\"/>\n       <use x=\"317.480469\" xlink:href=\"#DejaVuSans-95\"/>\n       <use x=\"367.480469\" xlink:href=\"#DejaVuSans-83\"/>\n       <use x=\"430.957031\" xlink:href=\"#DejaVuSans-112\"/>\n       <use x=\"494.433594\" xlink:href=\"#DejaVuSans-121\"/>\n       <use x=\"553.613281\" xlink:href=\"#DejaVuSans-49\"/>\n       <use x=\"617.236328\" xlink:href=\"#DejaVuSans-52\"/>\n       <use x=\"680.859375\" xlink:href=\"#DejaVuSans-49\"/>\n       <use x=\"744.482422\" xlink:href=\"#DejaVuSans-53\"/>\n      </g>\n     </g>\n    </g>\n    <g id=\"xtick_6\">\n     <g id=\"line2d_65\">\n      <g>\n       <use style=\"stroke:#000000;stroke-width:0.5;\" x=\"374.77125\" xlink:href=\"#m3b6e42fe33\" y=\"252.14\"/>\n      </g>\n     </g>\n     <g id=\"line2d_66\">\n      <g>\n       <use style=\"stroke:#000000;stroke-width:0.5;\" x=\"374.77125\" xlink:href=\"#mcec1e22cba\" y=\"28.76\"/>\n      </g>\n     </g>\n     <g id=\"text_21\">\n      <!-- spd3_M5005_Spy_1169 -->\n      <g transform=\"translate(377.915625 397.035)rotate(-90)scale(0.12 -0.12)\">\n       <use xlink:href=\"#DejaVuSans-115\"/>\n       <use x=\"52.099609\" xlink:href=\"#DejaVuSans-112\"/>\n       <use x=\"115.576172\" xlink:href=\"#DejaVuSans-100\"/>\n       <use x=\"179.052734\" xlink:href=\"#DejaVuSans-51\"/>\n       <use x=\"242.675781\" xlink:href=\"#DejaVuSans-95\"/>\n       <use x=\"292.675781\" xlink:href=\"#DejaVuSans-77\"/>\n       <use x=\"378.955078\" xlink:href=\"#DejaVuSans-53\"/>\n       <use x=\"442.578125\" xlink:href=\"#DejaVuSans-48\"/>\n       <use x=\"506.201172\" xlink:href=\"#DejaVuSans-48\"/>\n       <use x=\"569.824219\" xlink:href=\"#DejaVuSans-53\"/>\n       <use x=\"633.447266\" xlink:href=\"#DejaVuSans-95\"/>\n       <use x=\"683.447266\" xlink:href=\"#DejaVuSans-83\"/>\n       <use x=\"746.923828\" xlink:href=\"#DejaVuSans-112\"/>\n       <use x=\"810.400391\" xlink:href=\"#DejaVuSans-121\"/>\n       <use x=\"869.580078\" xlink:href=\"#DejaVuSans-95\"/>\n       <use x=\"919.580078\" xlink:href=\"#DejaVuSans-49\"/>\n       <use x=\"983.203125\" xlink:href=\"#DejaVuSans-49\"/>\n       <use x=\"1046.826172\" xlink:href=\"#DejaVuSans-54\"/>\n       <use x=\"1110.449219\" xlink:href=\"#DejaVuSans-57\"/>\n      </g>\n     </g>\n    </g>\n    <g id=\"xtick_7\">\n     <g id=\"line2d_67\">\n      <g>\n       <use style=\"stroke:#000000;stroke-width:0.5;\" x=\"432.61875\" xlink:href=\"#m3b6e42fe33\" y=\"252.14\"/>\n      </g>\n     </g>\n     <g id=\"line2d_68\">\n      <g>\n       <use style=\"stroke:#000000;stroke-width:0.5;\" x=\"432.61875\" xlink:href=\"#mcec1e22cba\" y=\"28.76\"/>\n      </g>\n     </g>\n     <g id=\"text_22\">\n      <!-- tetM_X92947_tetracycline -->\n      <defs>\n       <path d=\"M 6.296875 72.90625  L 16.890625 72.90625  L 35.015625 45.796875  L 53.21875 72.90625  L 63.8125 72.90625  L 40.375 37.890625  L 65.375 0  L 54.78125 0  L 34.28125 31  L 13.625 0  L 2.984375 0  L 29 38.921875  z \" id=\"DejaVuSans-88\"/>\n       <path d=\"M 9.421875 75.984375  L 18.40625 75.984375  L 18.40625 0  L 9.421875 0  z \" id=\"DejaVuSans-108\"/>\n      </defs>\n      <g transform=\"translate(435.763125 412.715625)rotate(-90)scale(0.12 -0.12)\">\n       <use xlink:href=\"#DejaVuSans-116\"/>\n       <use x=\"39.208984\" xlink:href=\"#DejaVuSans-101\"/>\n       <use x=\"100.732422\" xlink:href=\"#DejaVuSans-116\"/>\n       <use x=\"139.941406\" xlink:href=\"#DejaVuSans-77\"/>\n       <use x=\"226.220703\" xlink:href=\"#DejaVuSans-95\"/>\n       <use x=\"276.220703\" xlink:href=\"#DejaVuSans-88\"/>\n       <use x=\"344.726562\" xlink:href=\"#DejaVuSans-57\"/>\n       <use x=\"408.349609\" xlink:href=\"#DejaVuSans-50\"/>\n       <use x=\"471.972656\" xlink:href=\"#DejaVuSans-57\"/>\n       <use x=\"535.595703\" xlink:href=\"#DejaVuSans-52\"/>\n       <use x=\"599.21875\" xlink:href=\"#DejaVuSans-55\"/>\n       <use x=\"662.841797\" xlink:href=\"#DejaVuSans-95\"/>\n       <use x=\"712.841797\" xlink:href=\"#DejaVuSans-116\"/>\n       <use x=\"752.050781\" xlink:href=\"#DejaVuSans-101\"/>\n       <use x=\"813.574219\" xlink:href=\"#DejaVuSans-116\"/>\n       <use x=\"852.783203\" xlink:href=\"#DejaVuSans-114\"/>\n       <use x=\"893.896484\" xlink:href=\"#DejaVuSans-97\"/>\n       <use x=\"955.175781\" xlink:href=\"#DejaVuSans-99\"/>\n       <use x=\"1010.15625\" xlink:href=\"#DejaVuSans-121\"/>\n       <use x=\"1069.335938\" xlink:href=\"#DejaVuSans-99\"/>\n       <use x=\"1124.316406\" xlink:href=\"#DejaVuSans-108\"/>\n       <use x=\"1152.099609\" xlink:href=\"#DejaVuSans-105\"/>\n       <use x=\"1179.882812\" xlink:href=\"#DejaVuSans-110\"/>\n       <use x=\"1243.261719\" xlink:href=\"#DejaVuSans-101\"/>\n      </g>\n     </g>\n    </g>\n    <g id=\"xtick_8\">\n     <g id=\"line2d_69\">\n      <g>\n       <use style=\"stroke:#000000;stroke-width:0.5;\" x=\"490.46625\" xlink:href=\"#m3b6e42fe33\" y=\"252.14\"/>\n      </g>\n     </g>\n     <g id=\"line2d_70\">\n      <g>\n       <use style=\"stroke:#000000;stroke-width:0.5;\" x=\"490.46625\" xlink:href=\"#mcec1e22cba\" y=\"28.76\"/>\n      </g>\n     </g>\n     <g id=\"text_23\">\n      <!-- ermB_JN899585_macrolide -->\n      <defs>\n       <path d=\"M 19.671875 34.8125  L 19.671875 8.109375  L 35.5 8.109375  Q 43.453125 8.109375 47.28125 11.40625  Q 51.125 14.703125 51.125 21.484375  Q 51.125 28.328125 47.28125 31.5625  Q 43.453125 34.8125 35.5 34.8125  z M 19.671875 64.796875  L 19.671875 42.828125  L 34.28125 42.828125  Q 41.5 42.828125 45.03125 45.53125  Q 48.578125 48.25 48.578125 53.8125  Q 48.578125 59.328125 45.03125 62.0625  Q 41.5 64.796875 34.28125 64.796875  z M 9.8125 72.90625  L 35.015625 72.90625  Q 46.296875 72.90625 52.390625 68.21875  Q 58.5 63.53125 58.5 54.890625  Q 58.5 48.1875 55.375 44.234375  Q 52.25 40.28125 46.1875 39.3125  Q 53.46875 37.75 57.5 32.78125  Q 61.53125 27.828125 61.53125 20.40625  Q 61.53125 10.640625 54.890625 5.3125  Q 48.25 0 35.984375 0  L 9.8125 0  z \" id=\"DejaVuSans-66\"/>\n       <path d=\"M 9.8125 72.90625  L 19.671875 72.90625  L 19.671875 5.078125  Q 19.671875 -8.109375 14.671875 -14.0625  Q 9.671875 -20.015625 -1.421875 -20.015625  L -5.171875 -20.015625  L -5.171875 -11.71875  L -2.09375 -11.71875  Q 4.4375 -11.71875 7.125 -8.046875  Q 9.8125 -4.390625 9.8125 5.078125  z \" id=\"DejaVuSans-74\"/>\n       <path d=\"M 9.8125 72.90625  L 23.09375 72.90625  L 55.421875 11.921875  L 55.421875 72.90625  L 64.984375 72.90625  L 64.984375 0  L 51.703125 0  L 19.390625 60.984375  L 19.390625 0  L 9.8125 0  z \" id=\"DejaVuSans-78\"/>\n       <path d=\"M 30.609375 48.390625  Q 23.390625 48.390625 19.1875 42.75  Q 14.984375 37.109375 14.984375 27.296875  Q 14.984375 17.484375 19.15625 11.84375  Q 23.34375 6.203125 30.609375 6.203125  Q 37.796875 6.203125 41.984375 11.859375  Q 46.1875 17.53125 46.1875 27.296875  Q 46.1875 37.015625 41.984375 42.703125  Q 37.796875 48.390625 30.609375 48.390625  z M 30.609375 56  Q 42.328125 56 49.015625 48.375  Q 55.71875 40.765625 55.71875 27.296875  Q 55.71875 13.875 49.015625 6.21875  Q 42.328125 -1.421875 30.609375 -1.421875  Q 18.84375 -1.421875 12.171875 6.21875  Q 5.515625 13.875 5.515625 27.296875  Q 5.515625 40.765625 12.171875 48.375  Q 18.84375 56 30.609375 56  z \" id=\"DejaVuSans-111\"/>\n      </defs>\n      <g transform=\"translate(493.610625 417.811875)rotate(-90)scale(0.12 -0.12)\">\n       <use xlink:href=\"#DejaVuSans-101\"/>\n       <use x=\"61.523438\" xlink:href=\"#DejaVuSans-114\"/>\n       <use x=\"100.886719\" xlink:href=\"#DejaVuSans-109\"/>\n       <use x=\"198.298828\" xlink:href=\"#DejaVuSans-66\"/>\n       <use x=\"266.902344\" xlink:href=\"#DejaVuSans-95\"/>\n       <use x=\"316.902344\" xlink:href=\"#DejaVuSans-74\"/>\n       <use x=\"346.394531\" xlink:href=\"#DejaVuSans-78\"/>\n       <use x=\"421.199219\" xlink:href=\"#DejaVuSans-56\"/>\n       <use x=\"484.822266\" xlink:href=\"#DejaVuSans-57\"/>\n       <use x=\"548.445312\" xlink:href=\"#DejaVuSans-57\"/>\n       <use x=\"612.068359\" xlink:href=\"#DejaVuSans-53\"/>\n       <use x=\"675.691406\" xlink:href=\"#DejaVuSans-56\"/>\n       <use x=\"739.314453\" xlink:href=\"#DejaVuSans-53\"/>\n       <use x=\"802.9375\" xlink:href=\"#DejaVuSans-95\"/>\n       <use x=\"852.9375\" xlink:href=\"#DejaVuSans-109\"/>\n       <use x=\"950.349609\" xlink:href=\"#DejaVuSans-97\"/>\n       <use x=\"1011.628906\" xlink:href=\"#DejaVuSans-99\"/>\n       <use x=\"1066.609375\" xlink:href=\"#DejaVuSans-114\"/>\n       <use x=\"1105.472656\" xlink:href=\"#DejaVuSans-111\"/>\n       <use x=\"1166.654297\" xlink:href=\"#DejaVuSans-108\"/>\n       <use x=\"1194.4375\" xlink:href=\"#DejaVuSans-105\"/>\n       <use x=\"1222.220703\" xlink:href=\"#DejaVuSans-100\"/>\n       <use x=\"1285.697266\" xlink:href=\"#DejaVuSans-101\"/>\n      </g>\n     </g>\n    </g>\n   </g>\n   <g id=\"matplotlib.axis_3\">\n    <g id=\"ytick_7\">\n     <g id=\"line2d_71\">\n      <defs>\n       <path d=\"M 0 0  L 4 0  \" id=\"mf443554543\" style=\"stroke:#000000;stroke-width:0.5;\"/>\n      </defs>\n      <g>\n       <use style=\"stroke:#000000;stroke-width:0.5;\" x=\"56.61\" xlink:href=\"#mf443554543\" y=\"252.14\"/>\n      </g>\n     </g>\n     <g id=\"text_24\">\n      <!-- 0 -->\n      <g transform=\"translate(44.975 255.45125)scale(0.12 -0.12)\">\n       <use xlink:href=\"#DejaVuSans-48\"/>\n      </g>\n     </g>\n    </g>\n    <g id=\"ytick_8\">\n     <g id=\"line2d_72\">\n      <g>\n       <use style=\"stroke:#000000;stroke-width:0.5;\" x=\"56.61\" xlink:href=\"#mf443554543\" y=\"207.464\"/>\n      </g>\n     </g>\n     <g id=\"text_25\">\n      <!-- 20 -->\n      <g transform=\"translate(37.34 210.77525)scale(0.12 -0.12)\">\n       <use xlink:href=\"#DejaVuSans-50\"/>\n       <use x=\"63.623047\" xlink:href=\"#DejaVuSans-48\"/>\n      </g>\n     </g>\n    </g>\n    <g id=\"ytick_9\">\n     <g id=\"line2d_73\">\n      <g>\n       <use style=\"stroke:#000000;stroke-width:0.5;\" x=\"56.61\" xlink:href=\"#mf443554543\" y=\"162.788\"/>\n      </g>\n     </g>\n     <g id=\"text_26\">\n      <!-- 40 -->\n      <g transform=\"translate(37.34 166.09925)scale(0.12 -0.12)\">\n       <use xlink:href=\"#DejaVuSans-52\"/>\n       <use x=\"63.623047\" xlink:href=\"#DejaVuSans-48\"/>\n      </g>\n     </g>\n    </g>\n    <g id=\"ytick_10\">\n     <g id=\"line2d_74\">\n      <g>\n       <use style=\"stroke:#000000;stroke-width:0.5;\" x=\"56.61\" xlink:href=\"#mf443554543\" y=\"118.112\"/>\n      </g>\n     </g>\n     <g id=\"text_27\">\n      <!-- 60 -->\n      <g transform=\"translate(37.34 121.42325)scale(0.12 -0.12)\">\n       <use xlink:href=\"#DejaVuSans-54\"/>\n       <use x=\"63.623047\" xlink:href=\"#DejaVuSans-48\"/>\n      </g>\n     </g>\n    </g>\n    <g id=\"ytick_11\">\n     <g id=\"line2d_75\">\n      <g>\n       <use style=\"stroke:#000000;stroke-width:0.5;\" x=\"56.61\" xlink:href=\"#mf443554543\" y=\"73.436\"/>\n      </g>\n     </g>\n     <g id=\"text_28\">\n      <!-- 80 -->\n      <g transform=\"translate(37.34 76.74725)scale(0.12 -0.12)\">\n       <use xlink:href=\"#DejaVuSans-56\"/>\n       <use x=\"63.623047\" xlink:href=\"#DejaVuSans-48\"/>\n      </g>\n     </g>\n    </g>\n    <g id=\"ytick_12\">\n     <g id=\"line2d_76\">\n      <g>\n       <use style=\"stroke:#000000;stroke-width:0.5;\" x=\"56.61\" xlink:href=\"#mf443554543\" y=\"28.76\"/>\n      </g>\n     </g>\n     <g id=\"text_29\">\n      <!-- 100 -->\n      <g transform=\"translate(29.705 32.07125)scale(0.12 -0.12)\">\n       <use xlink:href=\"#DejaVuSans-49\"/>\n       <use x=\"63.623047\" xlink:href=\"#DejaVuSans-48\"/>\n       <use x=\"127.246094\" xlink:href=\"#DejaVuSans-48\"/>\n      </g>\n     </g>\n    </g>\n    <g id=\"text_30\">\n     <!-- Percent variation (box &amp; wisker) -->\n     <defs>\n      <path d=\"M 2.984375 54.6875  L 12.5 54.6875  L 29.59375 8.796875  L 46.6875 54.6875  L 56.203125 54.6875  L 35.6875 0  L 23.484375 0  z \" id=\"DejaVuSans-118\"/>\n      <path d=\"M 54.890625 54.6875  L 35.109375 28.078125  L 55.90625 0  L 45.3125 0  L 29.390625 21.484375  L 13.484375 0  L 2.875 0  L 24.125 28.609375  L 4.6875 54.6875  L 15.28125 54.6875  L 29.78125 35.203125  L 44.28125 54.6875  z \" id=\"DejaVuSans-120\"/>\n      <path d=\"M 24.3125 39.203125  Q 19.875 35.25 17.796875 31.3125  Q 15.71875 27.390625 15.71875 23.09375  Q 15.71875 15.96875 20.890625 11.234375  Q 26.078125 6.5 33.890625 6.5  Q 38.53125 6.5 42.578125 8.03125  Q 46.625 9.578125 50.203125 12.703125  z M 31.203125 44.671875  L 56 19.28125  Q 58.890625 23.640625 60.5 28.59375  Q 62.109375 33.546875 62.40625 39.109375  L 71.484375 39.109375  Q 70.90625 32.671875 68.359375 26.359375  Q 65.828125 20.0625 61.28125 13.921875  L 74.90625 0  L 62.59375 0  L 55.609375 7.171875  Q 50.53125 2.828125 44.96875 0.703125  Q 39.40625 -1.421875 33.015625 -1.421875  Q 21.234375 -1.421875 13.765625 5.296875  Q 6.296875 12.015625 6.296875 22.515625  Q 6.296875 28.765625 9.5625 34.25  Q 12.84375 39.75 19.390625 44.578125  Q 17.046875 47.65625 15.8125 50.703125  Q 14.59375 53.765625 14.59375 56.6875  Q 14.59375 64.59375 20.015625 69.40625  Q 25.4375 74.21875 34.421875 74.21875  Q 38.484375 74.21875 42.5 73.34375  Q 46.53125 72.46875 50.6875 70.703125  L 50.6875 61.8125  Q 46.4375 64.109375 42.578125 65.296875  Q 38.71875 66.5 35.40625 66.5  Q 30.28125 66.5 27.078125 63.78125  Q 23.875 61.078125 23.875 56.78125  Q 23.875 54.296875 25.3125 51.78125  Q 26.765625 49.265625 31.203125 44.671875  z \" id=\"DejaVuSans-38\"/>\n      <path d=\"M 4.203125 54.6875  L 13.1875 54.6875  L 24.421875 12.015625  L 35.59375 54.6875  L 46.1875 54.6875  L 57.421875 12.015625  L 68.609375 54.6875  L 77.59375 54.6875  L 63.28125 0  L 52.6875 0  L 40.921875 44.828125  L 29.109375 0  L 18.5 0  z \" id=\"DejaVuSans-119\"/>\n      <path d=\"M 9.078125 75.984375  L 18.109375 75.984375  L 18.109375 31.109375  L 44.921875 54.6875  L 56.390625 54.6875  L 27.390625 29.109375  L 57.625 0  L 45.90625 0  L 18.109375 26.703125  L 18.109375 0  L 9.078125 0  z \" id=\"DejaVuSans-107\"/>\n     </defs>\n     <g transform=\"translate(22.209375 236.497812)rotate(-90)scale(0.12 -0.12)\">\n      <use xlink:href=\"#DejaVuSans-80\"/>\n      <use x=\"56.677734\" xlink:href=\"#DejaVuSans-101\"/>\n      <use x=\"118.201172\" xlink:href=\"#DejaVuSans-114\"/>\n      <use x=\"157.064453\" xlink:href=\"#DejaVuSans-99\"/>\n      <use x=\"212.044922\" xlink:href=\"#DejaVuSans-101\"/>\n      <use x=\"273.568359\" xlink:href=\"#DejaVuSans-110\"/>\n      <use x=\"336.947266\" xlink:href=\"#DejaVuSans-116\"/>\n      <use x=\"376.15625\" xlink:href=\"#DejaVuSans-32\"/>\n      <use x=\"407.943359\" xlink:href=\"#DejaVuSans-118\"/>\n      <use x=\"467.123047\" xlink:href=\"#DejaVuSans-97\"/>\n      <use x=\"528.402344\" xlink:href=\"#DejaVuSans-114\"/>\n      <use x=\"569.515625\" xlink:href=\"#DejaVuSans-105\"/>\n      <use x=\"597.298828\" xlink:href=\"#DejaVuSans-97\"/>\n      <use x=\"658.578125\" xlink:href=\"#DejaVuSans-116\"/>\n      <use x=\"697.787109\" xlink:href=\"#DejaVuSans-105\"/>\n      <use x=\"725.570312\" xlink:href=\"#DejaVuSans-111\"/>\n      <use x=\"786.751953\" xlink:href=\"#DejaVuSans-110\"/>\n      <use x=\"850.130859\" xlink:href=\"#DejaVuSans-32\"/>\n      <use x=\"881.917969\" xlink:href=\"#DejaVuSans-40\"/>\n      <use x=\"920.931641\" xlink:href=\"#DejaVuSans-98\"/>\n      <use x=\"984.408203\" xlink:href=\"#DejaVuSans-111\"/>\n      <use x=\"1042.464844\" xlink:href=\"#DejaVuSans-120\"/>\n      <use x=\"1101.644531\" xlink:href=\"#DejaVuSans-32\"/>\n      <use x=\"1133.431641\" xlink:href=\"#DejaVuSans-38\"/>\n      <use x=\"1211.410156\" xlink:href=\"#DejaVuSans-32\"/>\n      <use x=\"1243.197266\" xlink:href=\"#DejaVuSans-119\"/>\n      <use x=\"1324.984375\" xlink:href=\"#DejaVuSans-105\"/>\n      <use x=\"1352.767578\" xlink:href=\"#DejaVuSans-115\"/>\n      <use x=\"1404.867188\" xlink:href=\"#DejaVuSans-107\"/>\n      <use x=\"1459.152344\" xlink:href=\"#DejaVuSans-101\"/>\n      <use x=\"1520.675781\" xlink:href=\"#DejaVuSans-114\"/>\n      <use x=\"1561.789062\" xlink:href=\"#DejaVuSans-41\"/>\n     </g>\n    </g>\n   </g>\n   <g id=\"text_31\">\n    <!-- Blast screen of 3 seqs -->\n    <defs>\n     <path d=\"M 14.796875 27.296875  Q 14.796875 17.390625 18.875 11.75  Q 22.953125 6.109375 30.078125 6.109375  Q 37.203125 6.109375 41.296875 11.75  Q 45.40625 17.390625 45.40625 27.296875  Q 45.40625 37.203125 41.296875 42.84375  Q 37.203125 48.484375 30.078125 48.484375  Q 22.953125 48.484375 18.875 42.84375  Q 14.796875 37.203125 14.796875 27.296875  z M 45.40625 8.203125  Q 42.578125 3.328125 38.25 0.953125  Q 33.9375 -1.421875 27.875 -1.421875  Q 17.96875 -1.421875 11.734375 6.484375  Q 5.515625 14.40625 5.515625 27.296875  Q 5.515625 40.1875 11.734375 48.09375  Q 17.96875 56 27.875 56  Q 33.9375 56 38.25 53.625  Q 42.578125 51.265625 45.40625 46.390625  L 45.40625 54.6875  L 54.390625 54.6875  L 54.390625 -20.796875  L 45.40625 -20.796875  z \" id=\"DejaVuSans-113\"/>\n    </defs>\n    <g transform=\"translate(208.9665 23.76)scale(0.144 -0.144)\">\n     <use xlink:href=\"#DejaVuSans-66\"/>\n     <use x=\"68.603516\" xlink:href=\"#DejaVuSans-108\"/>\n     <use x=\"96.386719\" xlink:href=\"#DejaVuSans-97\"/>\n     <use x=\"157.666016\" xlink:href=\"#DejaVuSans-115\"/>\n     <use x=\"209.765625\" xlink:href=\"#DejaVuSans-116\"/>\n     <use x=\"248.974609\" xlink:href=\"#DejaVuSans-32\"/>\n     <use x=\"280.761719\" xlink:href=\"#DejaVuSans-115\"/>\n     <use x=\"332.861328\" xlink:href=\"#DejaVuSans-99\"/>\n     <use x=\"387.841797\" xlink:href=\"#DejaVuSans-114\"/>\n     <use x=\"426.705078\" xlink:href=\"#DejaVuSans-101\"/>\n     <use x=\"488.228516\" xlink:href=\"#DejaVuSans-101\"/>\n     <use x=\"549.751953\" xlink:href=\"#DejaVuSans-110\"/>\n     <use x=\"613.130859\" xlink:href=\"#DejaVuSans-32\"/>\n     <use x=\"644.917969\" xlink:href=\"#DejaVuSans-111\"/>\n     <use x=\"706.099609\" xlink:href=\"#DejaVuSans-102\"/>\n     <use x=\"741.304688\" xlink:href=\"#DejaVuSans-32\"/>\n     <use x=\"773.091797\" xlink:href=\"#DejaVuSans-51\"/>\n     <use x=\"836.714844\" xlink:href=\"#DejaVuSans-32\"/>\n     <use x=\"868.501953\" xlink:href=\"#DejaVuSans-115\"/>\n     <use x=\"920.601562\" xlink:href=\"#DejaVuSans-101\"/>\n     <use x=\"982.125\" xlink:href=\"#DejaVuSans-113\"/>\n     <use x=\"1045.601562\" xlink:href=\"#DejaVuSans-115\"/>\n    </g>\n   </g>\n  </g>\n </g>\n <defs>\n  <clipPath id=\"p36f47f11d6\">\n   <rect height=\"223.38\" width=\"462.78\" x=\"56.61\" y=\"28.76\"/>\n  </clipPath>\n </defs>\n</svg>"
          },
          "metadata": {}
        }
      ]
    }
  ]
}