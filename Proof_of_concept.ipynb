{
  "nbformat": 4,
  "nbformat_minor": 0,
  "metadata": {
    "colab": {
      "name": "Proof_of_concept.ipynb",
      "private_outputs": true,
      "provenance": [],
      "collapsed_sections": []
    },
    "kernelspec": {
      "name": "python3",
      "display_name": "Python 3"
    },
    "language_info": {
      "name": "python"
    }
  },
  "cells": [
    {
      "cell_type": "code",
      "metadata": {
        "id": "K-zhgQoL4kKn"
      },
      "source": [
        "![Open In Colab](https://colab.research.google.com/assets/colab-badge.svg)](https://colab.research.google.com/github.com/BiologicalScientist/screen_assembly_colab/blob/main/Copy_of_Proof_of_concept.ipynb)"
      ],
      "execution_count": null,
      "outputs": []
    },
    {
      "cell_type": "code",
      "metadata": {
        "collapsed": true,
        "id": "92zZFr8UPGQ2"
      },
      "source": [
        "#Install conda using the new conda-colab library\n",
        "!pip3 install screen_assembly\n",
        "!pip install -q condacolab\n",
        "import condacolab\n",
        "condacolab.install_miniconda()\n",
        "\n",
        "#Install blast and clustal with bioconda\n",
        "!conda install -c bioconda blast\n",
        "!conda install -c bioconda clustalo\n",
        "\n",
        "\n",
        "\n"
      ],
      "execution_count": null,
      "outputs": []
    },
    {
      "cell_type": "code",
      "metadata": {
        "id": "TYc2jloKy97J"
      },
      "source": [
        "!blastn -h"
      ],
      "execution_count": null,
      "outputs": []
    },
    {
      "cell_type": "code",
      "metadata": {
        "id": "i-oQRX96PxvL"
      },
      "source": [
        "!screen_assembly3.py -h "
      ],
      "execution_count": null,
      "outputs": []
    },
    {
      "cell_type": "code",
      "metadata": {
        "id": "U0UMluDdt534"
      },
      "source": [
        "!pwd\n",
        "!ls\n",
        "!rm -r screen_assembly_colab\n",
        "!git clone https://github.com/BiologicalScientist/screen_assembly_colab\n",
        "!ls\n",
        "!ls -lh"
      ],
      "execution_count": null,
      "outputs": []
    },
    {
      "cell_type": "code",
      "metadata": {
        "id": "CzBqjWAUvHnv"
      },
      "source": [
        "!mkdir screen_results\n",
        "%cd screen_results"
      ],
      "execution_count": null,
      "outputs": []
    },
    {
      "cell_type": "code",
      "metadata": {
        "id": "ku_3jOuAyPcv"
      },
      "source": [
        "!screen_assembly3.py -q ../screen_assembly_colab/virulence_and_AMR.fa -i ../screen_assembly_colab/reference_genomes -a -x -p 80 -l 80"
      ],
      "execution_count": null,
      "outputs": []
    },
    {
      "cell_type": "code",
      "metadata": {
        "id": "5yQ_sPeBvuM8"
      },
      "source": [
        "!ls"
      ],
      "execution_count": null,
      "outputs": []
    },
    {
      "cell_type": "code",
      "metadata": {
        "id": "nEmY3K2Xv9vr"
      },
      "source": [
        "from IPython.display import SVG, display\n",
        "display(SVG('box_and_carriage_plot1.svg'))\n"
      ],
      "execution_count": null,
      "outputs": []
    }
  ]
}
